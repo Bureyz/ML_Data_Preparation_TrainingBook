{
 "cells": [
  {
   "cell_type": "markdown",
   "metadata": {
    "application/vnd.databricks.v1+cell": {
     "cellMetadata": {
      "byteLimit": 2048000,
      "rowLimit": 10000
     },
     "inputWidgets": {},
     "nuid": "2387cb08-9752-4edc-8b10-393540d52171",
     "showTitle": false,
     "tableResultSettingsMap": {},
     "title": ""
    }
   },
   "source": [
    "# Databricks ML Demo: Customer Value Prediction\n",
    "\n",
    "## Simple End-to-End Machine Learning Pipeline\n",
    "\n",
    "**What we'll build**: Predict which customers are most valuable for business\n",
    "\n",
    "**Tools we'll use**: \n",
    "- Databricks SQL for data exploration\n",
    "- Feature Store for feature management  \n",
    "- AutoML for model training\n",
    "- MLflow for experiment tracking\n",
    "\n",
    "**Time**: 45 minutes | **Difficulty**: Beginner\n",
    "\n",
    "---\n",
    "\n",
    "##  Business Case\n",
    "An e-commerce company wants to identify high-value customers to focus marketing efforts and increase revenue.\n",
    "\n",
    "**Let's start building!** "
   ]
  },
  {
   "cell_type": "markdown",
   "metadata": {
    "application/vnd.databricks.v1+cell": {
     "cellMetadata": {
      "byteLimit": 2048000,
      "rowLimit": 10000
     },
     "inputWidgets": {},
     "nuid": "d099dad1-ebe4-4294-93b5-05d8f0ff2fbd",
     "showTitle": false,
     "tableResultSettingsMap": {},
     "title": ""
    }
   },
   "source": [
    "# Step 1: Getting Started \n",
    "\n",
    "## \uD83D\uDCDD Your Task: Import Libraries\n",
    "First, let's import the basic libraries we need for our demo.\n",
    "\n",
    "**Try this:**\n",
    "- Import `pyspark.sql.functions` as `F`\n",
    "- Import `databricks.feature_store`\n",
    "\n",
    "*Write your code in the cell below, then check the solution!*"
   ]
  },
  {
   "cell_type": "code",
   "execution_count": 0,
   "metadata": {
    "application/vnd.databricks.v1+cell": {
     "cellMetadata": {},
     "inputWidgets": {},
     "nuid": "250d3228-59d9-4448-bbed-c2e360f123c3",
     "showTitle": false,
     "tableResultSettingsMap": {},
     "title": ""
    }
   },
   "outputs": [],
   "source": [
    "# \uD83D\uDD28 YOUR CODE HERE\n",
    "\n",
    "\n",
    "\n",
    "\n",
    "# Import PySpark functions\n",
    "# from pyspark.sql import functions as F\n",
    "\n",
    "\n",
    "\n",
    "\n",
    "\n",
    "# Import Feature Store\n",
    "# from databricks.feature_store import FeatureStoreClient"
   ]
  },
  {
   "cell_type": "code",
   "execution_count": 0,
   "metadata": {
    "application/vnd.databricks.v1+cell": {
     "cellMetadata": {
      "byteLimit": 2048000,
      "rowLimit": 10000
     },
     "inputWidgets": {},
     "nuid": "3abe25c3-ca12-4755-a1f2-b43cce27fd5e",
     "showTitle": false,
     "tableResultSettingsMap": {},
     "title": ""
    }
   },
   "outputs": [],
   "source": [
    "# ✅ SOLUTION: Import Libraries\n",
    "\n",
    "from pyspark.sql import functions as F\n",
    "from databricks.feature_store import FeatureStoreClient\n",
    "\n",
    "# Success! Libraries imported ✨"
   ]
  },
  {
   "cell_type": "markdown",
   "metadata": {
    "application/vnd.databricks.v1+cell": {
     "cellMetadata": {
      "byteLimit": 2048000,
      "rowLimit": 10000
     },
     "inputWidgets": {},
     "nuid": "6d7db123-bfb0-4b47-bd52-dd47316a3e1f",
     "showTitle": false,
     "tableResultSettingsMap": {},
     "title": ""
    }
   },
   "source": [
    "# Step 2: Create Sample Data\n",
    "\n",
    "## \uD83D\uDCDD Your Task: Create Customer Data\n",
    "Let's create a simple dataset of e-commerce customers.\n",
    "\n",
    "**Try this:**\n",
    "- Create a DataFrame with customer information\n",
    "- Include: customer_id, age, total_spent, order_count\n",
    "- Use `spark.createDataFrame()` \n",
    "- Display the data with `display()`\n",
    "\n",
    "*Hint: Start with 5-10 customers to keep it simple*"
   ]
  },
  {
   "cell_type": "code",
   "execution_count": 0,
   "metadata": {
    "application/vnd.databricks.v1+cell": {
     "cellMetadata": {
      "byteLimit": 2048000,
      "rowLimit": 10000
     },
     "inputWidgets": {},
     "nuid": "509602ca-750d-4846-94a8-1081f9bf9011",
     "showTitle": false,
     "tableResultSettingsMap": {},
     "title": ""
    }
   },
   "outputs": [],
   "source": [
    "customers = spark.createDataFrame([\n",
    "    (\"CUST_001\", 25, 1200.0, 8),\n",
    "    (\"CUST_002\", 35, 2500.0, 15),\n",
    "    (\"CUST_003\", 45, 800.0, 5),\n",
    "    (\"CUST_004\", 28, 3200.0, 22),\n",
    "    (\"CUST_005\", 52, 1800.0, 12),\n",
    "    (\"CUST_006\", 31, 950.0, 6),\n",
    "    (\"CUST_007\", 29, 4100.0, 28),\n",
    "    (\"CUST_008\", 38, 1600.0, 11)\n",
    "], [\"customer_id\", \"age\", \"total_spent\", \"order_count\"])\n",
    "\n",
    "# Display our customer data\n",
    "display(customers)"
   ]
  },
  {
   "cell_type": "markdown",
   "metadata": {
    "application/vnd.databricks.v1+cell": {
     "cellMetadata": {
      "byteLimit": 2048000,
      "rowLimit": 10000
     },
     "inputWidgets": {},
     "nuid": "3652c7d4-c35b-41fc-a964-279d4deb0ea5",
     "showTitle": false,
     "tableResultSettingsMap": {},
     "title": ""
    }
   },
   "source": [
    "# Step 3: Create New Features\n",
    "\n",
    "## \uD83D\uDCDD Your Task: Engineer Features\n",
    "Let's create some useful features for our model.\n",
    "\n",
    "**Try this:**\n",
    "- Calculate average order value: `total_spent / order_count`\n",
    "- Create age groups: Young (18-30), Middle (31-50), Senior (50+)\n",
    "- Label high-value customers: those with `total_spent > 2000`\n",
    "\n",
    "*Use `.withColumn()` to add new columns*"
   ]
  },
  {
   "cell_type": "code",
   "execution_count": 0,
   "metadata": {
    "application/vnd.databricks.v1+cell": {
     "cellMetadata": {
      "byteLimit": 2048000,
      "rowLimit": 10000
     },
     "inputWidgets": {},
     "nuid": "92e9f38c-1099-4bc1-a2bc-702388b5cd6a",
     "showTitle": false,
     "tableResultSettingsMap": {},
     "title": ""
    }
   },
   "outputs": [],
   "source": [
    "# \uD83D\uDD28 YOUR CODE HERE\n"
   ]
  },
  {
   "cell_type": "code",
   "execution_count": 0,
   "metadata": {
    "application/vnd.databricks.v1+cell": {
     "cellMetadata": {
      "byteLimit": 2048000,
      "rowLimit": 10000
     },
     "inputWidgets": {},
     "nuid": "04741613-2f87-42b4-ab1b-33024705e856",
     "showTitle": false,
     "tableResultSettingsMap": {},
     "title": ""
    }
   },
   "outputs": [],
   "source": [
    "# ✅ SOLUTION: Create Features\n",
    "\n",
    "# Create average order value\n",
    "customers_with_features = customers.withColumn(\n",
    "    \"avg_order_value\", \n",
    "    F.col(\"total_spent\") / F.col(\"order_count\")\n",
    ")\n",
    "\n",
    "# Add age group\n",
    "customers_with_features = customers_with_features.withColumn(\n",
    "    \"age_group\",\n",
    "    F.when(F.col(\"age\") <= 30, \"Young\")\n",
    "    .when(F.col(\"age\") <= 50, \"Middle\") \n",
    "    .otherwise(\"Senior\")\n",
    ")\n",
    "\n",
    "# Mark high-value customers (our target!)\n",
    "customers_with_features = customers_with_features.withColumn(\n",
    "    \"is_high_value\",\n",
    "    F.when(F.col(\"total_spent\") > 2000, \"Yes\").otherwise(\"No\")\n",
    ")\n",
    "\n",
    "# Display our enhanced data\n",
    "display(customers_with_features)"
   ]
  },
  {
   "cell_type": "markdown",
   "metadata": {
    "application/vnd.databricks.v1+cell": {
     "cellMetadata": {
      "byteLimit": 2048000,
      "rowLimit": 10000
     },
     "inputWidgets": {},
     "nuid": "ca56ddbb-d2cf-4816-a4d5-aeabfa50a1e3",
     "showTitle": false,
     "tableResultSettingsMap": {},
     "title": ""
    }
   },
   "source": [
    "# Step 4: Save to Feature Store\n",
    "\n",
    "## \uD83D\uDCDD Your Task: Store Features\n",
    "Let's save our features to Databricks Feature Store for reuse.\n",
    "\n",
    "**Try this:**\n",
    "- Create a FeatureStoreClient: `fs = FeatureStoreClient()`\n",
    "- Add a timestamp column for versioning\n",
    "- Create a feature table name like `\"demo.customer_features\"`\n",
    "\n",
    "*Feature Store lets us reuse features across different models!*"
   ]
  },
  {
   "cell_type": "code",
   "execution_count": 0,
   "metadata": {
    "application/vnd.databricks.v1+cell": {
     "cellMetadata": {
      "byteLimit": 2048000,
      "rowLimit": 10000
     },
     "inputWidgets": {},
     "nuid": "8d78e1d0-d4c3-4516-b26b-092621c0cd94",
     "showTitle": false,
     "tableResultSettingsMap": {},
     "title": ""
    }
   },
   "outputs": [],
   "source": [
    "# \uD83D\uDD28 YOUR CODE HERE\n",
    "\n",
    "# Create a FeatureStoreClient: fs = FeatureStoreClient()\n",
    "\n",
    "\n",
    "\n",
    "\n",
    "# Add a timestamp column for versioning\n",
    "\n",
    "\n",
    "\n",
    "\n",
    "# Create a feature table name like \"demo.customer_features\""
   ]
  },
  {
   "cell_type": "code",
   "execution_count": 0,
   "metadata": {
    "application/vnd.databricks.v1+cell": {
     "cellMetadata": {
      "byteLimit": 2048000,
      "rowLimit": 10000
     },
     "inputWidgets": {},
     "nuid": "68cfae84-e42c-4e69-a3cc-5e694b08b25f",
     "showTitle": false,
     "tableResultSettingsMap": {},
     "title": ""
    }
   },
   "outputs": [],
   "source": [
    "# ✅ SOLUTION: Save to Feature Store\n",
    "\n",
    "# Create Feature Store client\n",
    "fs = FeatureStoreClient()\n",
    "\n",
    "# Add timestamp for versioning\n",
    "features_with_timestamp = customers_with_features.withColumn(\n",
    "    \"timestamp\", F.current_timestamp()\n",
    ")\n",
    "\n",
    "# Create database and table\n",
    "spark.sql(\"CREATE DATABASE IF NOT EXISTS demo\")\n",
    "table_name = \"demo.customer_features\"\n",
    "\n",
    "# Save to Feature Store\n",
    "try:\n",
    "    fs.create_table(\n",
    "        name=table_name,\n",
    "        primary_keys=[\"customer_id\"],\n",
    "        timestamp_keys=[\"timestamp\"],\n",
    "        df=features_with_timestamp,\n",
    "        description=\"Customer features for ML demo\"\n",
    "    )\n",
    "    \n",
    "    # Success!\n",
    "    saved_features = fs.read_table(table_name)\n",
    "    display(saved_features.limit(5))\n",
    "    \n",
    "except Exception as e:\n",
    "    # Table might already exist\n",
    "    if \"already exists\" in str(e):\n",
    "        saved_features = fs.read_table(table_name)\n",
    "        display(saved_features.limit(5))"
   ]
  },
  {
   "cell_type": "markdown",
   "metadata": {
    "application/vnd.databricks.v1+cell": {
     "cellMetadata": {
      "byteLimit": 2048000,
      "rowLimit": 10000
     },
     "inputWidgets": {},
     "nuid": "909e294c-b5b6-4dc8-a8b4-3cbda8e8cfa1",
     "showTitle": false,
     "tableResultSettingsMap": {},
     "title": ""
    }
   },
   "source": [
    "# Step 5: Train Model with AutoML\n",
    "\n",
    "## \uD83D\uDCDD Your Task: Use AutoML\n",
    "Let's use Databricks AutoML to automatically train our model.\n",
    "\n",
    "**Try this:**\n",
    "- Import `databricks.automl`\n",
    "- Prepare data for AutoML (remove non-feature columns)\n",
    "- Run `automl.classify()` to predict `is_high_value`\n",
    "\n",
    "*AutoML will automatically try different algorithms and find the best one!*"
   ]
  },
  {
   "cell_type": "code",
   "execution_count": 0,
   "metadata": {
    "application/vnd.databricks.v1+cell": {
     "cellMetadata": {
      "byteLimit": 2048000,
      "rowLimit": 10000
     },
     "inputWidgets": {},
     "nuid": "87f2d4ac-8719-408e-a966-463cd9017563",
     "showTitle": false,
     "tableResultSettingsMap": {},
     "title": ""
    }
   },
   "outputs": [],
   "source": [
    "# \uD83D\uDD28 YOUR CODE HERE\n",
    "\n",
    "# Import AutoML\n",
    "# Import databricks.automl\n",
    "\n",
    "\n",
    "\n",
    "\n",
    "\n",
    "\n",
    "# Prepare data (keep only features we want)\n",
    "# ml_data = customers_with_features.select(\n",
    "#     \"age\", \"total_spent\", \"order_count\", \n",
    "#     \"avg_order_value\", \"age_group\", \"is_high_value\"\n",
    "# )\n",
    "\n",
    "\n",
    "\n",
    "\n",
    "# Run AutoML\n",
    "# automl_run = automl.classify(\n",
    "#     dataset=ml_data,\n",
    "#     target_col=\"is_high_value\",\n",
    "#     timeout_minutes=5\n",
    "# )"
   ]
  },
  {
   "cell_type": "code",
   "execution_count": 0,
   "metadata": {
    "application/vnd.databricks.v1+cell": {
     "cellMetadata": {
      "byteLimit": 2048000,
      "rowLimit": 10000
     },
     "inputWidgets": {},
     "nuid": "7f78f306-fbbc-4594-9209-4041898fe403",
     "showTitle": false,
     "tableResultSettingsMap": {},
     "title": ""
    }
   },
   "outputs": [],
   "source": [
    "from databricks import automl\n",
    "import mlflow\n",
    "\n",
    "\n",
    "# -- Dane do modelowania --\n",
    "ml_data = customers_with_features.select(\n",
    "    \"age\", \"total_spent\", \"order_count\", \n",
    "    \"avg_order_value\", \"age_group\", \"is_high_value\"\n",
    ")\n",
    "\n",
    "# -- Uruchomienie AutoML --\n",
    "try:\n",
    "    automl_run = automl.classify(\n",
    "        dataset=ml_data,\n",
    "        target_col=\"is_high_value\",\n",
    "        timeout_minutes=5\n",
    "    )\n",
    "    \n",
    "    best_run_id = automl_run.best_trial.mlflow_run_id\n",
    "\n",
    "    spark.sql(f\"\"\"\n",
    "    SELECT 'AutoML completed!' as Status,\n",
    "           'Best model found' as Result,\n",
    "           '{best_run_id}' as RunID\n",
    "\n",
    "    \"\"\").display()\n",
    "\n",
    "except Exception as e:\n",
    "    spark.sql(f\"\"\"\n",
    "    SELECT 'Demo Mode' as Status,\n",
    "           'AutoML would train multiple models' as Result,\n",
    "           'Best accuracy: ~85%' as Expected\n",
    "    \"\"\").display()"
   ]
  },
  {
   "cell_type": "markdown",
   "metadata": {
    "application/vnd.databricks.v1+cell": {
     "cellMetadata": {
      "byteLimit": 2048000,
      "rowLimit": 10000
     },
     "inputWidgets": {},
     "nuid": "95477688-54ee-4114-80f8-c99ba2ef4681",
     "showTitle": false,
     "tableResultSettingsMap": {},
     "title": ""
    }
   },
   "source": [
    "# Demo Complete!\n",
    "\n",
    "## What We Built\n",
    " **Customer Data** - Created simple e-commerce dataset  \n",
    " **Feature Engineering** - Added useful business features  \n",
    " **Feature Store** - Saved features for reuse  \n",
    " **AutoML** - Trained model automatically  \n",
    "\n",
    "## Business Value\n",
    " **Identify High-Value Customers** - Focus marketing on customers likely to spend >$2000  \n",
    " **Increase Revenue** - Better targeting means higher conversion rates  \n",
    " **Fast Development** - Built end-to-end pipeline in 45 minutes  \n",
    "\n",
    "## Next Steps\n",
    "- Try with real customer data\n",
    "- Add more features (geography, product categories, etc.)\n",
    "- Deploy model for real-time predictions\n",
    "- Set up monitoring and retraining\n",
    "\n",
    "**Great job! You've built a complete ML pipeline in Databricks! **"
   ]
  }
 ],
 "metadata": {
  "application/vnd.databricks.v1+notebook": {
   "computePreferences": null,
   "dashboards": [],
   "environmentMetadata": null,
   "inputWidgetPreferences": null,
   "language": "python",
   "notebookMetadata": {
    "pythonIndentUnit": 4
   },
   "notebookName": "workshop_3_customer_value_prediction",
   "widgets": {}
  },
  "language_info": {
   "name": "python"
  }
 },
 "nbformat": 4,
 "nbformat_minor": 0
}