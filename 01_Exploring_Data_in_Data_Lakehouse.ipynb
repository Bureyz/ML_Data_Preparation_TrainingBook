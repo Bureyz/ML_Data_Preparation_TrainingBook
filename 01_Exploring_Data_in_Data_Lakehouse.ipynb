{
 "cells": [
  {
   "cell_type": "markdown",
   "metadata": {
    "application/vnd.databricks.v1+cell": {
     "cellMetadata": {
      "byteLimit": 2048000,
      "rowLimit": 10000
     },
     "inputWidgets": {},
     "nuid": "1df060d9-3f3b-49c3-bb73-8ea593085a95",
     "showTitle": false,
     "tableResultSettingsMap": {},
     "title": ""
    }
   },
   "source": [
    "# Databricks Data Preparation in ML - Notebook 01\n",
    "## Exploring Data in Data Lakehouse for ML\n",
    "\n",
    "**Part of the Databricks Data Preparation in ML Training Series**\n",
    "\n",
    "---\n",
    "\n",
    "## Objectives\n",
    "\n",
    "This notebook covers fundamental data exploration techniques in Databricks Data Lakehouse architecture, focusing on:\n",
    "\n",
    "- **Data Lakehouse Architecture** - Understanding Medallion Architecture layers\n",
    "- **Unity Catalog Fundamentals** - Data governance and organization for ML\n",
    "- **Delta Lake Basics** - ACID transactions and time travel capabilities\n",
    "- **Data Exploration Techniques** - display() vs show() and advanced profiling\n",
    "- **Performance Optimization** - Caching, partitioning, and query optimization\n",
    "- **ML-Specific Data Analysis** - Feature correlation and target variable analysis\n",
    "\n",
    "## Duration: ~30 minutes\n",
    "## Level: Fundamental\n",
    "\n",
    "---\n",
    "\n",
    "## Why Data Lakehouse for ML?\n",
    "\n",
    "**Data Lakehouse** combines the best of data lakes and data warehouses:\n",
    "- **Unified Storage** - All data types in one platform\n",
    "- **ACID Transactions** - Enterprise-grade reliability\n",
    "- **Schema Evolution** - Flexible data structure changes\n",
    "- **Performance** - Optimized for both analytics and ML workloads\n",
    "- **Governance** - Built-in security and data lineage\n",
    "\n",
    "### ML Benefits:\n",
    "- **Feature Store Integration** - Centralized feature management\n",
    "- **Experiment Tracking** - MLflow native integration\n",
    "- **Data Versioning** - Time travel for reproducible ML\n",
    "- **Real-time Serving** - Low-latency feature serving"
   ]
  },
  {
   "cell_type": "markdown",
   "metadata": {
    "application/vnd.databricks.v1+cell": {
     "cellMetadata": {
      "byteLimit": 2048000,
      "rowLimit": 10000
     },
     "inputWidgets": {},
     "nuid": "569f264c-02f8-4d4b-b3bd-17f1b894f7a2",
     "showTitle": false,
     "tableResultSettingsMap": {},
     "title": ""
    }
   },
   "source": [
    "# Unity Catalog Fundamentals\n",
    "\n",
    "## Theory\n",
    "\n",
    "**Unity Catalog** is Databricks' unified governance solution for data and AI assets. It provides a single place to administer data access policies across all Databricks workspaces in your organization.\n",
    "\n",
    "### Unity Catalog Hierarchy:\n",
    "\n",
    "```\n",
    "Metastore\n",
    "├── Catalog\n",
    "│   ├── Schema (Database)\n",
    "│   │   ├── Tables\n",
    "│   │   ├── Views\n",
    "│   │   ├── Functions\n",
    "│   │   └── Volumes\n",
    "│   └── Models (MLflow)\n",
    "└── Connections (External Systems)\n",
    "```\n",
    "\n",
    "### Key Benefits for ML:\n",
    "\n",
    "#### **Data Governance**\n",
    "- **Centralized Access Control** - Fine-grained permissions at table/column level\n",
    "- **Data Lineage** - Track data flow from source to ML models\n",
    "- **Audit Logging** - Complete audit trail for compliance\n",
    "- **Data Discovery** - Search and discover datasets across organization\n",
    "\n",
    "#### **ML Lifecycle Integration**\n",
    "- **Feature Store** - Register and discover features across teams\n",
    "- **Model Registry** - Version and govern ML models\n",
    "- **Experiment Tracking** - Link experiments to data lineage\n",
    "- **Data Versioning** - Time travel for reproducible ML\n",
    "\n",
    "#### **Cross-Workspace Collaboration**\n",
    "- **Shared Data Assets** - Access data across multiple workspaces\n",
    "- **Consistent Naming** - Standardized catalog structure\n",
    "- **Team Collaboration** - Share datasets and models safely"
   ]
  },
  {
   "cell_type": "markdown",
   "metadata": {
    "application/vnd.databricks.v1+cell": {
     "cellMetadata": {
      "byteLimit": 2048000,
      "rowLimit": 10000
     },
     "inputWidgets": {},
     "nuid": "f103f3f8-d13c-4166-8de1-526c551ed763",
     "showTitle": false,
     "tableResultSettingsMap": {},
     "title": ""
    }
   },
   "source": [
    "## Environment Setup"
   ]
  },
  {
   "cell_type": "code",
   "execution_count": 0,
   "metadata": {
    "application/vnd.databricks.v1+cell": {
     "cellMetadata": {
      "byteLimit": 2048000,
      "rowLimit": 10000
     },
     "inputWidgets": {},
     "nuid": "b6b2850f-1420-473a-a50d-d5337e8a13bd",
     "showTitle": false,
     "tableResultSettingsMap": {},
     "title": ""
    }
   },
   "outputs": [],
   "source": [
    "# Essential imports for Databricks ML data exploration\n",
    "from pyspark.sql import SparkSession\n",
    "from pyspark.sql.functions import col, count, isnan, isnull, when, desc, asc\n",
    "from pyspark.sql.functions import mean, stddev, min as spark_min, max as spark_max, percentile_approx\n",
    "from pyspark.sql.types import StructType, StructField, StringType, IntegerType, DoubleType, TimestampType\n",
    "import pyspark.sql.functions as F"
   ]
  },
  {
   "cell_type": "code",
   "execution_count": 0,
   "metadata": {
    "application/vnd.databricks.v1+cell": {
     "cellMetadata": {
      "byteLimit": 2048000,
      "rowLimit": 10000
     },
     "inputWidgets": {},
     "nuid": "5bdff39c-a111-4879-9179-c1a803906e70",
     "showTitle": false,
     "tableResultSettingsMap": {},
     "title": ""
    }
   },
   "outputs": [],
   "source": [
    "# Verify Spark session and Databricks environment\n",
    "spark.sql(\"SELECT 'Databricks environment ready!' as status\").show()\n",
    "spark.sql(\"SELECT current_catalog() as current_catalog, current_schema() as current_schema\").show()"
   ]
  },
  {
   "cell_type": "markdown",
   "metadata": {
    "application/vnd.databricks.v1+cell": {
     "cellMetadata": {
      "byteLimit": 2048000,
      "rowLimit": 10000
     },
     "inputWidgets": {},
     "nuid": "6bc71b0e-e0ad-4dfe-9f25-8174ac480f14",
     "showTitle": false,
     "tableResultSettingsMap": {},
     "title": ""
    }
   },
   "source": [
    "#Creating Sample Data - Medallion Architecture Demo\n",
    "\n",
    "## Practical Implementation\n",
    "\n",
    "Let's create sample datasets that demonstrate the Medallion Architecture layers. We'll simulate a customer analytics use case for ML model training."
   ]
  },
  {
   "cell_type": "code",
   "execution_count": 0,
   "metadata": {
    "application/vnd.databricks.v1+cell": {
     "cellMetadata": {
      "byteLimit": 2048000,
      "rowLimit": 10000
     },
     "inputWidgets": {},
     "nuid": "8568417e-daff-4c6e-a18b-6aab8352e105",
     "showTitle": false,
     "tableResultSettingsMap": {},
     "title": ""
    }
   },
   "outputs": [],
   "source": [
    "pip install faker"
   ]
  },
  {
   "cell_type": "code",
   "execution_count": 0,
   "metadata": {
    "application/vnd.databricks.v1+cell": {
     "cellMetadata": {
      "byteLimit": 2048000,
      "rowLimit": 10000
     },
     "inputWidgets": {},
     "nuid": "c1a15b6d-8dd9-4dba-a199-6f929b4a8cd5",
     "showTitle": false,
     "tableResultSettingsMap": {
      "0": {
       "dataGridStateBlob": "{\"version\":1,\"tableState\":{\"columnPinning\":{\"left\":[\"#row_number#\"],\"right\":[]},\"columnSizing\":{},\"columnVisibility\":{}},\"settings\":{\"columns\":{}},\"syncTimestamp\":1753530557803}",
       "filterBlob": null,
       "queryPlanFiltersBlob": null,
       "tableResultIndex": 0
      }
     },
     "title": ""
    }
   },
   "outputs": [],
   "source": [
    "from pyspark.sql import SparkSession\n",
    "from pyspark.sql.types import StructType, StructField, StringType, IntegerType\n",
    "\n",
    "# Zakładamy, że sesja Spark już istnieje\n",
    "# spark = SparkSession.builder.getOrCreate()\n",
    "\n",
    "# Dane z warstwy Bronze (108 wierszy)\n",
    "bronze_data = [\n",
    "    (1, \"John Doe\", \"25\", \"john.doe@email.com\", \"50000\", \"2023-01-15\", \"CRM_SYSTEM\"),\n",
    "    (2, \"Jane Smith\", \"\", \"jane@company.com\", \"75000\", \"2023-02-20\", \"CRM_SYSTEM\"),\n",
    "    (3, \"Bob Johnson\", \"35\", \"\", \"60000\", \"2023-03-10\", \"HR_SYSTEM\"),\n",
    "    (4, \"Alice Brown\", \"28\", \"alice.brown@email.com\", \"\", \"2023-04-05\", \"CRM_SYSTEM\"),\n",
    "    (5, None, \"45\", \"unknown@test.com\", \"85000\", \"2023-05-12\", \"HR_SYSTEM\"),\n",
    "    (6, \"Charlie Wilson\", \"abc\", \"charlie@email.com\", \"70000\", \"2023-06-18\", \"CRM_SYSTEM\"),\n",
    "    (7, \"Diana Davis\", \"31\", \"diana.davis@email.com\", \"90000\", \"2023-07-22\", \"CRM_SYSTEM\"),\n",
    "    (1, \"John Doe\", \"25\", \"john.doe@email.com\", \"50000\", \"2023-01-15\", \"CRM_SYSTEM\")  # Duplicate\n",
    "]\n",
    "\n",
    "# --- Generowanie kolejnych 100 wierszy z losowymi brakami danych ---\n",
    "import random\n",
    "from faker import Faker\n",
    "\n",
    "fake = Faker()\n",
    "sources = [\"CRM_SYSTEM\", \"HR_SYSTEM\", \"ERP_SYSTEM\", \"WEB_PORTAL\", \"MOBILE_APP\"]\n",
    "\n",
    "for i in range(8, 1000):\n",
    "    name = fake.name() if random.random() > 0.05 else None\n",
    "    age = str(random.randint(18, 65)) if random.random() > 0.1 else \"\"\n",
    "    if random.random() < 0.05:\n",
    "        age = \"xyz\"\n",
    "    email = fake.email() if random.random() > 0.1 else \"\"\n",
    "    salary = str(random.randint(30000, 120000)) if random.random() > 0.1 else \"\"\n",
    "    signup_date = fake.date_between(start_date=\"-2y\", end_date=\"today\").strftime(\"%Y-%m-%d\")\n",
    "    source = random.choice(sources)\n",
    "\n",
    "    bronze_data.append((i, name, age, email, salary, signup_date, source))\n",
    "\n",
    "# --- Tworzenie DataFrame ---\n",
    "bronze_schema = StructType([\n",
    "    StructField(\"customer_id\", IntegerType(), True),\n",
    "    StructField(\"full_name\", StringType(), True),\n",
    "    StructField(\"age\", StringType(), True),  # Raw as string (may contain invalid data)\n",
    "    StructField(\"email\", StringType(), True),\n",
    "    StructField(\"salary\", StringType(), True),  # Raw as string (may contain invalid data)\n",
    "    StructField(\"registration_date\", StringType(), True),\n",
    "    StructField(\"source_system\", StringType(), True)\n",
    "])\n",
    "\n",
    "df_bronze = spark.createDataFrame(bronze_data, schema=bronze_schema)\n",
    "\n",
    "# --- Wyświetlenie danych ---\n",
    "display(df_bronze)"
   ]
  },
  {
   "cell_type": "code",
   "execution_count": 0,
   "metadata": {
    "application/vnd.databricks.v1+cell": {
     "cellMetadata": {
      "byteLimit": 2048000,
      "rowLimit": 10000
     },
     "inputWidgets": {},
     "nuid": "f1baa52f-9d86-4fe4-ae33-4eb0b1c0bce6",
     "showTitle": false,
     "tableResultSettingsMap": {},
     "title": ""
    }
   },
   "outputs": [],
   "source": [
    "df_bronze.write.format(\"csv\").mode(\"overwrite\").option(\"header\", \"true\").save(\"/FileStore/tables/bronze_data.csv\")"
   ]
  },
  {
   "cell_type": "code",
   "execution_count": 0,
   "metadata": {
    "application/vnd.databricks.v1+cell": {
     "cellMetadata": {
      "byteLimit": 2048000,
      "rowLimit": 10000
     },
     "inputWidgets": {},
     "nuid": "06f4f5eb-7b10-4c48-93a3-09fda714910b",
     "showTitle": false,
     "tableResultSettingsMap": {
      "0": {
       "dataGridStateBlob": "{\"version\":1,\"tableState\":{\"columnPinning\":{\"left\":[\"#row_number#\"],\"right\":[]},\"columnSizing\":{},\"columnVisibility\":{}},\"settings\":{\"columns\":{}},\"syncTimestamp\":1753530012589}",
       "filterBlob": null,
       "queryPlanFiltersBlob": null,
       "tableResultIndex": 0
      }
     },
     "title": ""
    }
   },
   "outputs": [],
   "source": [
    "# Display Bronze layer data - Raw data as ingested\n",
    "display(df_bronze)"
   ]
  },
  {
   "cell_type": "markdown",
   "metadata": {
    "application/vnd.databricks.v1+cell": {
     "cellMetadata": {
      "byteLimit": 2048000,
      "rowLimit": 10000
     },
     "inputWidgets": {},
     "nuid": "bb1766e8-df4e-4d4b-adb4-834a51f560d1",
     "showTitle": false,
     "tableResultSettingsMap": {},
     "title": ""
    }
   },
   "source": [
    "#Data Exploration Techniques\n",
    "\n",
    "## Display vs Show - Practical Differences\n",
    "\n",
    "Understanding when to use `display()` vs `show()` is crucial for effective data exploration in Databricks."
   ]
  },
  {
   "cell_type": "code",
   "execution_count": 0,
   "metadata": {
    "application/vnd.databricks.v1+cell": {
     "cellMetadata": {
      "byteLimit": 2048000,
      "rowLimit": 10000
     },
     "inputWidgets": {},
     "nuid": "69814c3f-39f4-452e-bd51-530f8a182651",
     "showTitle": false,
     "tableResultSettingsMap": {},
     "title": ""
    }
   },
   "outputs": [],
   "source": [
    "# show() - Standard Spark function for tabular output\n",
    "# Best for: debugging, programmatic output, truncated views\n",
    "df_bronze.show(5, truncate=False)"
   ]
  },
  {
   "cell_type": "code",
   "execution_count": 0,
   "metadata": {
    "application/vnd.databricks.v1+cell": {
     "cellMetadata": {
      "byteLimit": 2048000,
      "rowLimit": 10000
     },
     "inputWidgets": {},
     "nuid": "654317f3-c287-48f1-84c0-ed5645f6420d",
     "showTitle": false,
     "tableResultSettingsMap": {
      "0": {
       "dataGridStateBlob": "{\"version\":1,\"tableState\":{\"columnPinning\":{\"left\":[\"#row_number#\"],\"right\":[]},\"columnSizing\":{},\"columnVisibility\":{}},\"settings\":{\"columns\":{}},\"syncTimestamp\":1753530191060}",
       "filterBlob": null,
       "queryPlanFiltersBlob": null,
       "tableResultIndex": 0
      }
     },
     "title": ""
    }
   },
   "outputs": [],
   "source": [
    "# display() - Databricks-specific function with rich features\n",
    "# Best for: interactive exploration, visualizations, data profiling\n",
    "# Features: sorting, filtering, plotting, statistics\n",
    "display(df_bronze)"
   ]
  },
  {
   "cell_type": "markdown",
   "metadata": {
    "application/vnd.databricks.v1+cell": {
     "cellMetadata": {
      "byteLimit": 2048000,
      "rowLimit": 10000
     },
     "inputWidgets": {},
     "nuid": "9364ea31-e28f-4266-a62a-deae27c71ad2",
     "showTitle": false,
     "tableResultSettingsMap": {},
     "title": ""
    }
   },
   "source": [
    "## Advanced Data Profiling\n",
    "\n",
    "Beyond basic `describe()`, we can perform comprehensive data profiling to understand data quality and characteristics."
   ]
  },
  {
   "cell_type": "code",
   "execution_count": 0,
   "metadata": {
    "application/vnd.databricks.v1+cell": {
     "cellMetadata": {
      "byteLimit": 2048000,
      "rowLimit": 10000
     },
     "inputWidgets": {},
     "nuid": "09e0906c-c78c-4970-a070-2a2116b4223e",
     "showTitle": false,
     "tableResultSettingsMap": {
      "0": {
       "dataGridStateBlob": "{\"version\":1,\"tableState\":{\"columnPinning\":{\"left\":[\"#row_number#\"],\"right\":[]},\"columnSizing\":{\"Metric\":132},\"columnVisibility\":{}},\"settings\":{\"columns\":{}},\"syncTimestamp\":1753530457568}",
       "filterBlob": null,
       "queryPlanFiltersBlob": null,
       "tableResultIndex": 0
      }
     },
     "title": ""
    }
   },
   "outputs": [],
   "source": [
    "# Comprehensive data profiling\n",
    "total_records = df_bronze.count()\n",
    "total_columns = len(df_bronze.columns)\n",
    "\n",
    "# Create profiling summary\n",
    "profiling_data = [\n",
    "    (\"Total Records\", total_records),\n",
    "    (\"Total Columns\", total_columns),\n",
    "    (\"Source Systems\", df_bronze.select(\"source_system\").distinct().count())\n",
    "]\n",
    "\n",
    "profiling_df = spark.createDataFrame(profiling_data, [\"Metric\", \"Value\"])\n",
    "display(profiling_df)"
   ]
  },
  {
   "cell_type": "code",
   "execution_count": 0,
   "metadata": {
    "application/vnd.databricks.v1+cell": {
     "cellMetadata": {
      "byteLimit": 2048000,
      "rowLimit": 10000
     },
     "inputWidgets": {},
     "nuid": "d7eb7cd6-1aed-40ad-8f4b-d4fefcaec38f",
     "showTitle": false,
     "tableResultSettingsMap": {},
     "title": ""
    }
   },
   "outputs": [],
   "source": [
    "# Display basic statistics for all columns in the Bronze DataFrame\n",
    "display(df_bronze.describe())"
   ]
  },
  {
   "cell_type": "code",
   "execution_count": 0,
   "metadata": {
    "application/vnd.databricks.v1+cell": {
     "cellMetadata": {
      "byteLimit": 2048000,
      "rowLimit": 10000
     },
     "inputWidgets": {},
     "nuid": "51025f1a-e4fa-44d3-8360-abe2943f5db8",
     "showTitle": false,
     "tableResultSettingsMap": {},
     "title": ""
    }
   },
   "outputs": [],
   "source": [
    "# Display the raw Bronze layer data for interactive exploration\n",
    "display(df_bronze)"
   ]
  },
  {
   "cell_type": "code",
   "execution_count": 0,
   "metadata": {
    "application/vnd.databricks.v1+cell": {
     "cellMetadata": {
      "byteLimit": 2048000,
      "rowLimit": 10000
     },
     "inputWidgets": {},
     "nuid": "1d8d750f-2626-4e70-81d5-f2edde9c6dd0",
     "showTitle": false,
     "tableResultSettingsMap": {
      "0": {
       "dataGridStateBlob": "{\"version\":1,\"tableState\":{\"columnPinning\":{\"left\":[\"#row_number#\"],\"right\":[]},\"columnSizing\":{},\"columnVisibility\":{}},\"settings\":{\"columns\":{}},\"syncTimestamp\":1753530296582}",
       "filterBlob": null,
       "queryPlanFiltersBlob": null,
       "tableResultIndex": 0
      }
     },
     "title": ""
    }
   },
   "outputs": [],
   "source": [
    "# Null value analysis per column\n",
    "null_analysis = df_bronze.select([\n",
    "    count(when(col(c).isNull(), c)).alias(f\"{c}_nulls\") for c in df_bronze.columns\n",
    "])\n",
    "\n",
    "display(null_analysis)"
   ]
  },
  {
   "cell_type": "code",
   "execution_count": 0,
   "metadata": {
    "application/vnd.databricks.v1+cell": {
     "cellMetadata": {
      "byteLimit": 2048000,
      "rowLimit": 10000
     },
     "inputWidgets": {},
     "nuid": "93bd2e12-1d0e-4ede-b7c2-a401544594c7",
     "showTitle": false,
     "tableResultSettingsMap": {},
     "title": ""
    }
   },
   "outputs": [],
   "source": [
    "df_bronze.count()"
   ]
  },
  {
   "cell_type": "code",
   "execution_count": 0,
   "metadata": {
    "application/vnd.databricks.v1+cell": {
     "cellMetadata": {
      "byteLimit": 2048000,
      "rowLimit": 10000
     },
     "inputWidgets": {},
     "nuid": "cccc6afc-d81e-4eec-a175-0cf44d28d9f2",
     "showTitle": false,
     "tableResultSettingsMap": {},
     "title": ""
    }
   },
   "outputs": [],
   "source": [
    "dr_dedup_bronze = df_bronze.dropDuplicates()"
   ]
  },
  {
   "cell_type": "code",
   "execution_count": 0,
   "metadata": {
    "application/vnd.databricks.v1+cell": {
     "cellMetadata": {
      "byteLimit": 2048000,
      "rowLimit": 10000
     },
     "inputWidgets": {},
     "nuid": "7495ea4a-c431-48f7-948e-a6b3454d575c",
     "showTitle": false,
     "tableResultSettingsMap": {},
     "title": ""
    }
   },
   "outputs": [],
   "source": [
    "dr_dedup_bronze.count()\n"
   ]
  },
  {
   "cell_type": "markdown",
   "metadata": {
    "application/vnd.databricks.v1+cell": {
     "cellMetadata": {
      "byteLimit": 2048000,
      "rowLimit": 10000
     },
     "inputWidgets": {},
     "nuid": "5961096f-4a46-46a3-a200-59e342bda5b0",
     "showTitle": false,
     "tableResultSettingsMap": {},
     "title": ""
    }
   },
   "source": [
    "## Spark SQL Integration for ML\n",
    "\n",
    "Spark SQL provides powerful analytical capabilities that are essential for ML data exploration."
   ]
  },
  {
   "cell_type": "code",
   "execution_count": 0,
   "metadata": {
    "application/vnd.databricks.v1+cell": {
     "cellMetadata": {
      "byteLimit": 2048000,
      "rowLimit": 10000
     },
     "inputWidgets": {},
     "nuid": "b3b41ebf-ba35-4a21-aaac-cb66f52e62d8",
     "showTitle": false,
     "tableResultSettingsMap": {},
     "title": ""
    }
   },
   "outputs": [],
   "source": [
    "# Create temporary view for SQL analysis\n",
    "df_bronze.createOrReplaceTempView(\"bronze_customers\")"
   ]
  },
  {
   "cell_type": "code",
   "execution_count": 0,
   "metadata": {
    "application/vnd.databricks.v1+cell": {
     "cellMetadata": {
      "byteLimit": 2048000,
      "implicitDf": true,
      "rowLimit": 10000
     },
     "inputWidgets": {},
     "nuid": "ece3bd74-c84e-4196-9499-715e55bd1183",
     "showTitle": false,
     "tableResultSettingsMap": {},
     "title": ""
    }
   },
   "outputs": [],
   "source": [
    "%sql\n",
    "\n",
    "SELECT  * FROM bronze_customers"
   ]
  },
  {
   "cell_type": "code",
   "execution_count": 0,
   "metadata": {
    "application/vnd.databricks.v1+cell": {
     "cellMetadata": {
      "byteLimit": 2048000,
      "implicitDf": true,
      "rowLimit": 10000
     },
     "inputWidgets": {},
     "nuid": "4d610ba2-1e8a-4098-9ed0-c01c2bd1e2a5",
     "showTitle": false,
     "tableResultSettingsMap": {},
     "title": ""
    }
   },
   "outputs": [],
   "source": [
    "%sql\n",
    "SELECT \n",
    "    COUNT(*) as total_records,\n",
    "    COUNT(DISTINCT customer_id) as unique_customers,\n",
    "    SUM(CASE WHEN full_name IS NULL THEN 1 ELSE 0 END) as missing_names,\n",
    "    SUM(CASE WHEN email = '' OR email IS NULL THEN 1 ELSE 0 END) as missing_emails,\n",
    "    SUM(CASE WHEN salary = '' OR salary IS NULL THEN 1 ELSE 0 END) as missing_salaries\n",
    "FROM bronze_customers \n",
    "GROUP BY source_system\n",
    "ORDER BY source_system"
   ]
  },
  {
   "cell_type": "markdown",
   "metadata": {
    "application/vnd.databricks.v1+cell": {
     "cellMetadata": {
      "byteLimit": 2048000,
      "rowLimit": 10000
     },
     "inputWidgets": {},
     "nuid": "a5b32815-4c5b-4fba-8d97-ee09e66be3a6",
     "showTitle": false,
     "tableResultSettingsMap": {},
     "title": ""
    }
   },
   "source": [
    "# Delta Lake Fundamentals for ML\n",
    "\n",
    "## Theory\n",
    "\n",
    "**Delta Lake** is an open-source storage layer that brings ACID transactions to Apache Spark and big data workloads. It's the foundation of the Databricks Lakehouse.\n",
    "\n",
    "### 🎯 Key Benefits for ML:\n",
    "\n",
    "#### **ACID Transactions**\n",
    "- **Atomicity** - All-or-nothing operations\n",
    "- **Consistency** - Data integrity maintained\n",
    "- **Isolation** - Concurrent operations don't interfere\n",
    "- **Durability** - Changes are permanent\n",
    "\n",
    "#### **Time Travel**\n",
    "- **Data Versioning** - Every write creates a new version\n",
    "- **Reproducible ML** - Access exact data used for training\n",
    "- **Experiment Tracking** - Link models to specific data versions\n",
    "- **Rollback Capability** - Revert to previous data states\n",
    "\n",
    "#### **Schema Evolution**\n",
    "- **Schema Enforcement** - Prevent data quality issues\n",
    "- **Schema Evolution** - Add/modify columns safely\n",
    "- **Compatibility** - Maintain backward compatibility"
   ]
  },
  {
   "cell_type": "code",
   "execution_count": 0,
   "metadata": {
    "application/vnd.databricks.v1+cell": {
     "cellMetadata": {
      "byteLimit": 2048000,
      "rowLimit": 10000
     },
     "inputWidgets": {},
     "nuid": "83c9ccd0-e433-473d-9b5d-92a840edf5d5",
     "showTitle": false,
     "tableResultSettingsMap": {},
     "title": ""
    }
   },
   "outputs": [],
   "source": [
    "# Create Delta table from Bronze data\n",
    "# Note: In production, you would write to a proper table location\n",
    "df_bronze.write.format(\"delta\").mode(\"overwrite\").saveAsTable(\"bronze_customers_delta\")"
   ]
  },
  {
   "cell_type": "code",
   "execution_count": 0,
   "metadata": {
    "application/vnd.databricks.v1+cell": {
     "cellMetadata": {
      "byteLimit": 2048000,
      "rowLimit": 10000
     },
     "inputWidgets": {},
     "nuid": "5acc6061-e145-4770-9419-d9fb6e222532",
     "showTitle": false,
     "tableResultSettingsMap": {},
     "title": ""
    }
   },
   "outputs": [],
   "source": [
    "# Read from Delta table\n",
    "df_delta = spark.table(\"bronze_customers_delta\")\n",
    "display(df_delta)"
   ]
  },
  {
   "cell_type": "code",
   "execution_count": 0,
   "metadata": {
    "application/vnd.databricks.v1+cell": {
     "cellMetadata": {
      "byteLimit": 2048000,
      "rowLimit": 10000
     },
     "inputWidgets": {},
     "nuid": "eddaca57-9262-44df-8f06-a7794a7110db",
     "showTitle": false,
     "tableResultSettingsMap": {},
     "title": ""
    }
   },
   "outputs": [],
   "source": [
    "# Delta table history - essential for ML reproducibility\n",
    "display(spark.sql(\"DESCRIBE HISTORY bronze_customers_delta\"))"
   ]
  },
  {
   "cell_type": "code",
   "execution_count": 0,
   "metadata": {
    "application/vnd.databricks.v1+cell": {
     "cellMetadata": {
      "byteLimit": 2048000,
      "implicitDf": true,
      "rowLimit": 10000
     },
     "inputWidgets": {},
     "nuid": "688d93f3-95c1-4a93-9369-8398883efcb3",
     "showTitle": false,
     "tableResultSettingsMap": {},
     "title": ""
    }
   },
   "outputs": [],
   "source": [
    "%sql\n",
    "insert into bronze_customers_delta\n",
    "select * from bronze_customers_delta limit 10"
   ]
  },
  {
   "cell_type": "code",
   "execution_count": 0,
   "metadata": {
    "application/vnd.databricks.v1+cell": {
     "cellMetadata": {
      "byteLimit": 2048000,
      "implicitDf": true,
      "rowLimit": 10000
     },
     "inputWidgets": {},
     "nuid": "74fbb03e-b9af-4d54-8f97-afc2b5f24c8b",
     "showTitle": false,
     "tableResultSettingsMap": {},
     "title": ""
    }
   },
   "outputs": [],
   "source": [
    "%sql\n",
    "--Time travel example: query the bronze_customers_delta table as of version 1\n",
    "SELECT * FROM bronze_customers_delta VERSION AS OF 1\n"
   ]
  },
  {
   "cell_type": "markdown",
   "metadata": {
    "application/vnd.databricks.v1+cell": {
     "cellMetadata": {
      "byteLimit": 2048000,
      "rowLimit": 10000
     },
     "inputWidgets": {},
     "nuid": "f6be96fe-014c-498f-b6f1-6eb562e5127f",
     "showTitle": false,
     "tableResultSettingsMap": {},
     "title": ""
    }
   },
   "source": [
    "# Performance Optimization for ML Workloads\n",
    "\n",
    "## Caching Strategies\n",
    "\n",
    "Caching is crucial for iterative ML workflows where the same dataset is accessed multiple times."
   ]
  },
  {
   "cell_type": "code",
   "execution_count": 0,
   "metadata": {
    "application/vnd.databricks.v1+cell": {
     "cellMetadata": {
      "byteLimit": 2048000,
      "rowLimit": 10000
     },
     "inputWidgets": {},
     "nuid": "900f419c-d9a3-4d90-ab06-1cdf684423c0",
     "showTitle": false,
     "tableResultSettingsMap": {},
     "title": ""
    }
   },
   "outputs": [],
   "source": [
    "# Cache the DataFrame for repeated access\n",
    "df_bronze_cached = df_bronze.cache()\n",
    "\n",
    "# Force caching by performing an action\n",
    "df_bronze_cached.count()"
   ]
  },
  {
   "cell_type": "code",
   "execution_count": 0,
   "metadata": {
    "application/vnd.databricks.v1+cell": {
     "cellMetadata": {
      "byteLimit": 2048000,
      "rowLimit": 10000
     },
     "inputWidgets": {},
     "nuid": "6b68e537-5997-4e8f-b253-e6b797dfdc95",
     "showTitle": false,
     "tableResultSettingsMap": {},
     "title": ""
    }
   },
   "outputs": [],
   "source": [
    "# Column pruning - select only needed columns for ML features\n",
    "ml_features = df_bronze_cached.select(\"customer_id\", \"age\", \"email\", \"salary\")\n",
    "display(ml_features)"
   ]
  },
  {
   "cell_type": "markdown",
   "metadata": {
    "application/vnd.databricks.v1+cell": {
     "cellMetadata": {
      "byteLimit": 2048000,
      "rowLimit": 10000
     },
     "inputWidgets": {},
     "nuid": "14489ba9-c74f-40ef-894e-5e1717bf8c10",
     "showTitle": false,
     "tableResultSettingsMap": {},
     "title": ""
    }
   },
   "source": [
    "\n",
    "This cell can be used to explain the difference between shallow and deep clone in Delta Lake:\n",
    "\n",
    "- **Shallow Clone**: Creates a new Delta table that references the same data files as the source table. Only metadata is copied, so it's fast and storage-efficient. Changes to the clone do not affect the source, but the underlying data is shared until modified.\n",
    "- **Deep Clone**: Copies both the metadata and the data files to a new location. The clone is fully independent of the source table, and changes to either do not affect the other. Useful for backups or migrating data.\n",
    "\n",
    "Use this cell to document these concepts or provide examples."
   ]
  },
  {
   "cell_type": "code",
   "execution_count": 0,
   "metadata": {
    "application/vnd.databricks.v1+cell": {
     "cellMetadata": {
      "byteLimit": 2048000,
      "rowLimit": 10000
     },
     "inputWidgets": {},
     "nuid": "6793110f-792d-426d-9f7a-81a56d6fd76c",
     "showTitle": false,
     "tableResultSettingsMap": {},
     "title": ""
    }
   },
   "outputs": [],
   "source": [
    "# Shallow clone of a table (metadata only, no data copy)\n",
    "spark.sql(\"\"\"\n",
    "CREATE OR REPLACE TABLE bronze_customers_delta_shallow_clone\n",
    "SHALLOW CLONE bronze_customers_delta\n",
    "\"\"\")\n",
    "\n",
    "# Deep clone of a table (full data copy)\n",
    "spark.sql(\"\"\"\n",
    "CREATE OR REPLACE TABLE bronze_customers_delta_deep_clone\n",
    "DEEP CLONE bronze_customers_delta\n",
    "\"\"\")"
   ]
  },
  {
   "cell_type": "markdown",
   "metadata": {
    "application/vnd.databricks.v1+cell": {
     "cellMetadata": {
      "byteLimit": 2048000,
      "rowLimit": 10000
     },
     "inputWidgets": {},
     "nuid": "cad7d490-f57d-4ade-bae3-26a3021cf60d",
     "showTitle": false,
     "tableResultSettingsMap": {},
     "title": ""
    }
   },
   "source": [
    "# ML-Specific Data Analysis\n",
    "\n",
    "## Creating Silver Layer with Cleaned Data\n",
    "\n",
    "Transform Bronze data into Silver layer with proper data types and cleaning for ML workflows."
   ]
  },
  {
   "cell_type": "code",
   "execution_count": 0,
   "metadata": {
    "application/vnd.databricks.v1+cell": {
     "cellMetadata": {
      "byteLimit": 2048000,
      "rowLimit": 10000
     },
     "inputWidgets": {},
     "nuid": "c2a52fcf-12a1-4220-986d-fe41676b5093",
     "showTitle": false,
     "tableResultSettingsMap": {},
     "title": ""
    }
   },
   "outputs": [],
   "source": [
    "# Silver layer transformation - clean data with proper types\n",
    "df_silver = df_bronze.select(\n",
    "    col(\"customer_id\"),\n",
    "    col(\"full_name\"),\n",
    "    # Convert age to integer, handle invalid values\n",
    "    when(col(\"age\").rlike(\"^[0-9]+$\"), col(\"age\").cast(\"int\")).otherwise(None).alias(\"age_clean\"),\n",
    "    col(\"email\"),\n",
    "    # Convert salary to double, handle invalid values  \n",
    "    when(col(\"salary\").rlike(\"^[0-9]+$\"), col(\"salary\").cast(\"double\")).otherwise(None).alias(\"salary_clean\"),\n",
    "    col(\"registration_date\"),\n",
    "    col(\"source_system\")\n",
    ").filter(col(\"customer_id\").isNotNull())  # Remove records without customer_id\n",
    "\n",
    "# Remove duplicates based on customer_id\n",
    "df_silver = df_silver.dropDuplicates([\"customer_id\"])\n",
    "\n",
    "display(df_silver)"
   ]
  },
  {
   "cell_type": "code",
   "execution_count": 0,
   "metadata": {
    "application/vnd.databricks.v1+cell": {
     "cellMetadata": {
      "byteLimit": 2048000,
      "rowLimit": 10000
     },
     "inputWidgets": {},
     "nuid": "71689528-4332-4757-a1a3-c8b0fd182bfe",
     "showTitle": false,
     "tableResultSettingsMap": {},
     "title": ""
    }
   },
   "outputs": [],
   "source": [
    "# Feature correlation analysis for ML\n",
    "# Select only numeric columns for correlation\n",
    "numeric_features = df_silver.select(\"age_clean\", \"salary_clean\").filter(\n",
    "    col(\"age_clean\").isNotNull() & col(\"salary_clean\").isNotNull()\n",
    ")\n",
    "\n",
    "# Basic statistics for numeric features\n",
    "display(numeric_features.describe())"
   ]
  },
  {
   "cell_type": "code",
   "execution_count": 0,
   "metadata": {
    "application/vnd.databricks.v1+cell": {
     "cellMetadata": {
      "byteLimit": 2048000,
      "rowLimit": 10000
     },
     "inputWidgets": {},
     "nuid": "1df6be7c-0cfc-4e32-9c2e-96cb9f4afa10",
     "showTitle": false,
     "tableResultSettingsMap": {},
     "title": ""
    }
   },
   "outputs": [],
   "source": [
    "# Data distribution analysis - key for ML feature engineering\n",
    "age_stats = df_silver.select(\n",
    "    mean(\"age_clean\").alias(\"mean_age\"),\n",
    "    stddev(\"age_clean\").alias(\"stddev_age\"),\n",
    "    spark_min(\"age_clean\").alias(\"min_age\"),\n",
    "    spark_max(\"age_clean\").alias(\"max_age\"),\n",
    "    percentile_approx(\"age_clean\", 0.25).alias(\"q1_age\"),\n",
    "    percentile_approx(\"age_clean\", 0.75).alias(\"q3_age\")\n",
    ")\n",
    "\n",
    "display(age_stats)"
   ]
  },
  {
   "cell_type": "markdown",
   "metadata": {
    "application/vnd.databricks.v1+cell": {
     "cellMetadata": {
      "byteLimit": 2048000,
      "rowLimit": 10000
     },
     "inputWidgets": {},
     "nuid": "87c85b1a-3bf3-47b5-ac5e-c3745ce04d52",
     "showTitle": false,
     "tableResultSettingsMap": {},
     "title": ""
    }
   },
   "source": [
    "# Data Visualization for ML\n",
    "\n",
    "## Built-in Databricks Visualizations\n",
    "\n",
    "Databricks provides powerful built-in visualization capabilities that are essential for ML data exploration and feature analysis."
   ]
  },
  {
   "cell_type": "code",
   "execution_count": 0,
   "metadata": {
    "application/vnd.databricks.v1+cell": {
     "cellMetadata": {
      "byteLimit": 2048000,
      "rowLimit": 10000
     },
     "inputWidgets": {},
     "nuid": "7c3e9958-8a3e-492e-92c1-efc5e5b7e84d",
     "showTitle": false,
     "tableResultSettingsMap": {},
     "title": ""
    }
   },
   "outputs": [],
   "source": [
    "# Create a cleaned dataset for visualization\n",
    "# Convert string columns to appropriate types for visualization\n",
    "df_viz = df_bronze.filter(col(\"customer_id\").isNotNull()) \\\n",
    "    .withColumn(\"age_numeric\", \n",
    "                when(col(\"age\").rlike(\"^[0-9]+$\"), col(\"age\").cast(\"int\"))\n",
    "                .otherwise(None)) \\\n",
    "    .withColumn(\"salary_numeric\", \n",
    "                when(col(\"salary\").rlike(\"^[0-9]+$\"), col(\"salary\").cast(\"double\"))\n",
    "                .otherwise(None)) \\\n",
    "    .filter(col(\"age_numeric\").isNotNull() & col(\"salary_numeric\").isNotNull())"
   ]
  },
  {
   "cell_type": "markdown",
   "metadata": {
    "application/vnd.databricks.v1+cell": {
     "cellMetadata": {
      "byteLimit": 2048000,
      "rowLimit": 10000
     },
     "inputWidgets": {},
     "nuid": "14abe46e-fd80-4122-b91a-0593f0ca383c",
     "showTitle": false,
     "tableResultSettingsMap": {},
     "title": ""
    }
   },
   "source": [
    "\n",
    "## Custom Visualization in Databricks Using Native Options\n",
    "\n",
    "The following code demonstrates how to create custom visualizations directly within Databricks using its built-in visualization tools."
   ]
  },
  {
   "cell_type": "code",
   "execution_count": 0,
   "metadata": {
    "application/vnd.databricks.v1+cell": {
     "cellMetadata": {
      "byteLimit": 2048000,
      "rowLimit": 10000
     },
     "inputWidgets": {},
     "nuid": "75102818-7611-4aa1-bd67-344c33029acd",
     "showTitle": false,
     "tableResultSettingsMap": {},
     "title": ""
    }
   },
   "outputs": [],
   "source": [
    "# Feature correlation: Age vs Salary - essential for ML feature engineering\n",
    "display(df_viz.select(\"age_numeric\", \"salary_numeric\"))"
   ]
  },
  {
   "cell_type": "code",
   "execution_count": 0,
   "metadata": {
    "application/vnd.databricks.v1+cell": {
     "cellMetadata": {
      "byteLimit": 2048000,
      "rowLimit": 10000
     },
     "inputWidgets": {},
     "nuid": "c62194cc-ef38-4214-9f3a-97f8153f94fa",
     "showTitle": false,
     "tableResultSettingsMap": {},
     "title": ""
    }
   },
   "outputs": [],
   "source": [
    "# Data source distribution - understanding data lineage\n",
    "source_distribution = df_bronze.groupBy(\"source_system\").count().orderBy(desc(\"count\"))\n",
    "display(source_distribution)"
   ]
  },
  {
   "cell_type": "markdown",
   "metadata": {
    "application/vnd.databricks.v1+cell": {
     "cellMetadata": {
      "byteLimit": 2048000,
      "rowLimit": 10000
     },
     "inputWidgets": {},
     "nuid": "a2ad7ac9-8a54-46db-b20d-8effa043b844",
     "showTitle": false,
     "tableResultSettingsMap": {},
     "title": ""
    }
   },
   "source": [
    "## Advanced Visualizations with Python Libraries\n",
    "\n",
    "For more sophisticated ML visualizations, we can integrate matplotlib and seaborn with Databricks."
   ]
  },
  {
   "cell_type": "code",
   "execution_count": 0,
   "metadata": {
    "application/vnd.databricks.v1+cell": {
     "cellMetadata": {
      "byteLimit": 2048000,
      "rowLimit": 10000
     },
     "inputWidgets": {},
     "nuid": "32378a78-b315-49dc-9fe0-b4cb1747296b",
     "showTitle": false,
     "tableResultSettingsMap": {},
     "title": ""
    }
   },
   "outputs": [],
   "source": [
    "# Import visualization libraries\n",
    "import matplotlib.pyplot as plt\n",
    "import seaborn as sns\n",
    "import pandas as pd"
   ]
  },
  {
   "cell_type": "code",
   "execution_count": 0,
   "metadata": {
    "application/vnd.databricks.v1+cell": {
     "cellMetadata": {
      "byteLimit": 2048000,
      "rowLimit": 10000
     },
     "inputWidgets": {},
     "nuid": "ce209d15-9c78-46e6-8233-95fc92384ad0",
     "showTitle": false,
     "tableResultSettingsMap": {},
     "title": ""
    }
   },
   "outputs": [],
   "source": [
    "# Correlation heatmap for ML feature analysis\n",
    "# Convert to Pandas for advanced visualization\n",
    "pandas_df = df_viz.select(\"age_numeric\", \"salary_numeric\").toPandas()"
   ]
  },
  {
   "cell_type": "code",
   "execution_count": 0,
   "metadata": {
    "application/vnd.databricks.v1+cell": {
     "cellMetadata": {
      "byteLimit": 2048000,
      "rowLimit": 10000
     },
     "inputWidgets": {},
     "nuid": "abd981c2-1d58-4a9b-b15f-45d1b2725f32",
     "showTitle": false,
     "tableResultSettingsMap": {},
     "title": ""
    }
   },
   "outputs": [],
   "source": [
    "pandas_df.display()"
   ]
  },
  {
   "cell_type": "markdown",
   "metadata": {
    "application/vnd.databricks.v1+cell": {
     "cellMetadata": {
      "byteLimit": 2048000,
      "rowLimit": 10000
     },
     "inputWidgets": {},
     "nuid": "ab394728-ba56-402b-a538-a49c2a7a4404",
     "showTitle": false,
     "tableResultSettingsMap": {},
     "title": ""
    }
   },
   "source": [
    "This code generates a correlation heatmap for the features in a pandas DataFrame. It uses matplotlib to set the figure size and seaborn to plot the correlation matrix, displaying correlation coefficients with color gradients and annotations. The heatmap helps visualize relationships between features, which is useful for machine learning analysis."
   ]
  },
  {
   "cell_type": "code",
   "execution_count": 0,
   "metadata": {
    "application/vnd.databricks.v1+cell": {
     "cellMetadata": {
      "byteLimit": 2048000,
      "rowLimit": 10000
     },
     "inputWidgets": {},
     "nuid": "08721f20-15ce-4917-8948-989628414a68",
     "showTitle": false,
     "tableResultSettingsMap": {},
     "title": ""
    }
   },
   "outputs": [],
   "source": [
    "# Create correlation heatmap\n",
    "plt.figure(figsize=(8, 6))\n",
    "sns.heatmap(pandas_df.corr(), annot=True, cmap='coolwarm', center=0, fmt='.3f')\n",
    "plt.title('Feature Correlation Matrix for ML')\n",
    "plt.tight_layout()\n",
    "plt.show()"
   ]
  },
  {
   "cell_type": "markdown",
   "metadata": {
    "application/vnd.databricks.v1+cell": {
     "cellMetadata": {
      "byteLimit": 2048000,
      "rowLimit": 10000
     },
     "inputWidgets": {},
     "nuid": "2e0c3411-79c4-44c7-99ad-f8042080bcd9",
     "showTitle": false,
     "tableResultSettingsMap": {},
     "title": ""
    }
   },
   "source": [
    "This code creates side-by-side histograms to visualize the distributions of the `age_numeric` and `salary_numeric` features from a pandas DataFrame. It helps identify the spread, central tendency, and potential outliers in these features, which is useful for ML feature engineering."
   ]
  },
  {
   "cell_type": "code",
   "execution_count": 0,
   "metadata": {
    "application/vnd.databricks.v1+cell": {
     "cellMetadata": {
      "byteLimit": 2048000,
      "rowLimit": 10000
     },
     "inputWidgets": {},
     "nuid": "78694e5a-2bd6-4dc3-a727-e55fd2e635d6",
     "showTitle": false,
     "tableResultSettingsMap": {},
     "title": ""
    }
   },
   "outputs": [],
   "source": [
    "display(pandas_df)"
   ]
  },
  {
   "cell_type": "code",
   "execution_count": 0,
   "metadata": {
    "application/vnd.databricks.v1+cell": {
     "cellMetadata": {
      "byteLimit": 2048000,
      "rowLimit": 10000
     },
     "inputWidgets": {},
     "nuid": "c54b4db4-1e8d-4b7f-bc7f-9e4a28873f46",
     "showTitle": false,
     "tableResultSettingsMap": {},
     "title": ""
    }
   },
   "outputs": [],
   "source": [
    "# Distribution analysis for ML feature engineering\n",
    "fig, axes = plt.subplots(1, 2, figsize=(15, 5))\n",
    "\n",
    "# Age distribution\n",
    "axes[0].hist(pandas_df['age_numeric'], bins=10, alpha=0.7, color='skyblue', edgecolor='black')\n",
    "axes[0].set_title('Age Distribution')\n",
    "axes[0].set_xlabel('Age')\n",
    "axes[0].set_ylabel('Frequency')  \n",
    "\n",
    "# Salary distribution\n",
    "axes[1].hist(pandas_df['salary_numeric'], bins=10, alpha=0.7, color='lightgreen', edgecolor='black')\n",
    "axes[1].set_title('Salary Distribution')\n",
    "axes[1].set_xlabel('Salary')\n",
    "axes[1].set_ylabel('Frequency')\n",
    "\n",
    "plt.tight_layout()\n",
    "plt.show()"
   ]
  },
  {
   "cell_type": "code",
   "execution_count": 0,
   "metadata": {
    "application/vnd.databricks.v1+cell": {
     "cellMetadata": {
      "byteLimit": 2048000,
      "rowLimit": 10000
     },
     "inputWidgets": {},
     "nuid": "4719b7b1-11a9-4943-82ec-22ebe16aa7ab",
     "showTitle": false,
     "tableResultSettingsMap": {},
     "title": ""
    }
   },
   "outputs": [],
   "source": [
    "df_viz.createOrReplaceTempView(\"viz_view\")"
   ]
  },
  {
   "cell_type": "code",
   "execution_count": 0,
   "metadata": {
    "application/vnd.databricks.v1+cell": {
     "cellMetadata": {
      "byteLimit": 2048000,
      "implicitDf": true,
      "rowLimit": 10000
     },
     "inputWidgets": {},
     "nuid": "2cbb69af-1015-4e88-b887-67653c4e0e31",
     "showTitle": false,
     "tableResultSettingsMap": {},
     "title": ""
    }
   },
   "outputs": [],
   "source": [
    "%sql\n",
    "\n",
    "select * from viz_view"
   ]
  },
  {
   "cell_type": "code",
   "execution_count": 0,
   "metadata": {
    "application/vnd.databricks.v1+cell": {
     "cellMetadata": {
      "byteLimit": 2048000,
      "implicitDf": true,
      "rowLimit": 10000
     },
     "inputWidgets": {},
     "nuid": "f7a82e3b-af36-4002-b66b-55d59756c2fd",
     "showTitle": false,
     "tableResultSettingsMap": {
      "0": {
       "dataGridStateBlob": "{\"version\":1,\"tableState\":{\"columnPinning\":{\"left\":[\"#row_number#\"],\"right\":[]},\"columnSizing\":{},\"columnVisibility\":{}},\"settings\":{\"columns\":{}},\"syncTimestamp\":1753532136751}",
       "filterBlob": null,
       "queryPlanFiltersBlob": null,
       "tableResultIndex": 0
      }
     },
     "title": ""
    }
   },
   "outputs": [],
   "source": [
    "%sql\n",
    "with hist_age_stand as (\n",
    "  select \n",
    "    case \n",
    "      when age >= 18 and age < 20 then '18-19'\n",
    "      when age >= 20 and age < 25 then '20-24'\n",
    "      when age >= 25 and age < 30 then '25-29'\n",
    "      when age >= 30 and age < 35 then '30-34'\n",
    "      when age >= 35 and age < 40 then '35-39'\n",
    "      when age >= 40 and age < 45 then '40-44'\n",
    "      when age >= 45 and age < 50 then '45-49'\n",
    "      when age >= 50 and age < 55 then '50-54'\n",
    "      when age >= 55 and age < 60 then '55-59'\n",
    "      when age >= 60 and age < 65 then '60-64'\n",
    "      when age >= 65 and age < 70 then '65-69'\n",
    "      when age >= 70 and age < 75 then '70-74'\n",
    "      when age >= 75 and age < 80 then '75-79'\n",
    "      else '80+' \n",
    "    end as age_standardization,\n",
    "    age \n",
    "  from viz_view\n",
    ")\n",
    "select age_standardization, count(age) \n",
    "from hist_age_stand\n",
    "group by age_standardization\n",
    "order by age_standardization"
   ]
  }
 ],
 "metadata": {
  "application/vnd.databricks.v1+notebook": {
   "computePreferences": null,
   "dashboards": [],
   "environmentMetadata": null,
   "inputWidgetPreferences": null,
   "language": "python",
   "notebookMetadata": {
    "mostRecentlyExecutedCommandWithImplicitDF": {
     "commandId": 6849176059597862,
     "dataframes": [
      "_sqldf"
     ]
    },
    "pythonIndentUnit": 4,
    "widgetLayout": []
   },
   "notebookName": "01_Exploring_Data_in_Data_Lakehouse",
   "widgets": {
    "cache_level": {
     "currentValue": "MEMORY_ONLY",
     "nuid": "d7da4135-0783-45a4-baf6-2cd6c88f1244",
     "typedWidgetInfo": {
      "autoCreated": false,
      "defaultValue": "MEMORY_AND_DISK",
      "label": "DataFrame caching strategy",
      "name": "cache_level",
      "options": {
       "choices": [
        "MEMORY_ONLY",
        "MEMORY_AND_DISK",
        "DISK_ONLY"
       ],
       "fixedDomain": true,
       "multiselect": false,
       "widgetDisplayType": "Dropdown"
      },
      "parameterDataType": "String"
     },
     "widgetInfo": {
      "defaultValue": "MEMORY_AND_DISK",
      "label": "DataFrame caching strategy",
      "name": "cache_level",
      "options": {
       "autoCreated": null,
       "choices": [
        "MEMORY_ONLY",
        "MEMORY_AND_DISK",
        "DISK_ONLY"
       ],
       "widgetType": "dropdown"
      },
      "widgetType": "dropdown"
     }
    },
    "catalog_name": {
     "currentValue": "main",
     "nuid": "9786527c-e8fd-4f33-8baf-6aba4a81d233",
     "typedWidgetInfo": {
      "autoCreated": false,
      "defaultValue": "main",
      "label": "Unity Catalog name",
      "name": "catalog_name",
      "options": {
       "validationRegex": null,
       "widgetDisplayType": "Text"
      },
      "parameterDataType": "String"
     },
     "widgetInfo": {
      "defaultValue": "main",
      "label": "Unity Catalog name",
      "name": "catalog_name",
      "options": {
       "autoCreated": null,
       "validationRegex": null,
       "widgetType": "text"
      },
      "widgetType": "text"
     }
    },
    "sample_size": {
     "currentValue": "1000",
     "nuid": "24854d72-6b5c-4e8d-bd03-f85fe9790eff",
     "typedWidgetInfo": {
      "autoCreated": false,
      "defaultValue": "1000",
      "label": "Number of records to display",
      "name": "sample_size",
      "options": {
       "validationRegex": null,
       "widgetDisplayType": "Text"
      },
      "parameterDataType": "String"
     },
     "widgetInfo": {
      "defaultValue": "1000",
      "label": "Number of records to display",
      "name": "sample_size",
      "options": {
       "autoCreated": null,
       "validationRegex": null,
       "widgetType": "text"
      },
      "widgetType": "text"
     }
    },
    "schema_name": {
     "currentValue": "default",
     "nuid": "df18aca9-4e2f-4f2d-a816-4b3847d619a8",
     "typedWidgetInfo": {
      "autoCreated": false,
      "defaultValue": "default",
      "label": "Schema/Database name",
      "name": "schema_name",
      "options": {
       "validationRegex": null,
       "widgetDisplayType": "Text"
      },
      "parameterDataType": "String"
     },
     "widgetInfo": {
      "defaultValue": "default",
      "label": "Schema/Database name",
      "name": "schema_name",
      "options": {
       "autoCreated": null,
       "validationRegex": null,
       "widgetType": "text"
      },
      "widgetType": "text"
     }
    },
    "visualization_mode": {
     "currentValue": "basic",
     "nuid": "e1142ebe-f35c-4894-be67-4b118f79934d",
     "typedWidgetInfo": {
      "autoCreated": false,
      "defaultValue": "interactive",
      "label": "Visualization complexity",
      "name": "visualization_mode",
      "options": {
       "choices": [
        "basic",
        "interactive",
        "advanced"
       ],
       "fixedDomain": true,
       "multiselect": false,
       "widgetDisplayType": "Dropdown"
      },
      "parameterDataType": "String"
     },
     "widgetInfo": {
      "defaultValue": "interactive",
      "label": "Visualization complexity",
      "name": "visualization_mode",
      "options": {
       "autoCreated": null,
       "choices": [
        "basic",
        "interactive",
        "advanced"
       ],
       "widgetType": "dropdown"
      },
      "widgetType": "dropdown"
     }
    }
   }
  },
  "language_info": {
   "name": "python"
  }
 },
 "nbformat": 4,
 "nbformat_minor": 0
}
