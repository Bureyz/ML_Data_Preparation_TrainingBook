{
 "cells": [
  {
   "cell_type": "markdown",
   "metadata": {
    "application/vnd.databricks.v1+cell": {
     "cellMetadata": {
      "byteLimit": 2048000,
      "rowLimit": 10000
     },
     "inputWidgets": {},
     "nuid": "eb1a2cdd-1ff0-4e9d-b9f8-318640ec3ff0",
     "showTitle": false,
     "tableResultSettingsMap": {},
     "title": ""
    }
   },
   "source": [
    "# 00_unity_catalog_configuration\n",
    "\n",
    "## Unity Catalog – Configuration of Catalog and Schemas\n",
    "\n",
    "**Unity Catalog** is a unified governance layer for all data assets in the Databricks Lakehouse Platform. It provides centralized access control, auditing, lineage, and secure data sharing across workspaces.\n",
    "\n",
    "### Key concepts:\n",
    "- **Catalog** – the top-level namespace that groups schemas and tables. Each catalog can have a storage location.\n",
    "- **Schema** – also known as a database, it organizes tables, views, and other objects.\n",
    "- **Table** – a managed or external dataset stored in Delta format.\n",
    "- **Managed location** – a directory in cloud storage managed automatically by Unity Catalog.\n",
    "\n",
    "### This notebook demonstrates:\n",
    "- Creating a Unity Catalog with managed location in Azure Data Lake\n",
    "- Creating `bronze`, `silver`, and `gold` schemas according to the medallion architecture\n",
    "- Creating managed and external Delta tables\n",
    "- Cleaning up (dropping) tables, schemas, and catalog"
   ]
  },
  {
   "cell_type": "code",
   "execution_count": 0,
   "metadata": {
    "application/vnd.databricks.v1+cell": {
     "cellMetadata": {
      "byteLimit": 2048000,
      "rowLimit": 10000
     },
     "inputWidgets": {},
     "nuid": "5578c478-dde1-467e-86a3-025764c6f360",
     "showTitle": false,
     "tableResultSettingsMap": {},
     "title": ""
    }
   },
   "outputs": [],
   "source": [
    "# Set parameters\n",
    "catalog_name = \"data_ml_preparation\"\n",
    "external_location_base = \"abfss://uc-altkom-akademia@altkommltrainingwesa.dfs.core.windows.net/\"\n",
    "full_location_path = f\"{external_location_base}/data_ml_preparation\"\n",
    "\n",
    "# Create Unity Catalog\n",
    "spark.sql(f\"CREATE CATALOG IF NOT EXISTS {catalog_name} MANAGED LOCATION '{full_location_path}'\")"
   ]
  },
  {
   "cell_type": "code",
   "execution_count": 0,
   "metadata": {
    "application/vnd.databricks.v1+cell": {
     "cellMetadata": {
      "byteLimit": 2048000,
      "implicitDf": true,
      "rowLimit": 10000
     },
     "inputWidgets": {},
     "nuid": "93b9fd17-b188-4ac2-bdb3-7bf2b8e7f5f6",
     "showTitle": false,
     "tableResultSettingsMap": {},
     "title": ""
    }
   },
   "outputs": [],
   "source": [
    "%sql\n",
    "\n",
    "CREATE CATALOG IF NOT EXISTS data_ml_preparation MANAGED LOCATION 'abfss://uc-altkom-akademia@altkommltrainingwesa.dfs.core.windows.net/data_ml_preparation'"
   ]
  },
  {
   "cell_type": "code",
   "execution_count": 0,
   "metadata": {
    "application/vnd.databricks.v1+cell": {
     "cellMetadata": {
      "byteLimit": 2048000,
      "implicitDf": true,
      "rowLimit": 10000
     },
     "inputWidgets": {},
     "nuid": "4f837b0f-d6d7-4d9e-a4e7-c91cb40d07d6",
     "showTitle": false,
     "tableResultSettingsMap": {},
     "title": ""
    }
   },
   "outputs": [],
   "source": [
    "%sql\n",
    "GRANT ALL PRIVILEGES ON CATALOG data_ml_preparation TO `account users`"
   ]
  },
  {
   "cell_type": "code",
   "execution_count": 0,
   "metadata": {
    "application/vnd.databricks.v1+cell": {
     "cellMetadata": {
      "byteLimit": 2048000,
      "implicitDf": true,
      "rowLimit": 10000
     },
     "inputWidgets": {},
     "nuid": "eaf4d75f-c6a5-42c9-9a04-4b9daab11128",
     "showTitle": false,
     "tableResultSettingsMap": {},
     "title": ""
    }
   },
   "outputs": [],
   "source": [
    "%sql\n",
    "USE CATALOG data_ml_preparation;"
   ]
  },
  {
   "cell_type": "code",
   "execution_count": 0,
   "metadata": {
    "application/vnd.databricks.v1+cell": {
     "cellMetadata": {
      "byteLimit": 2048000,
      "implicitDf": true,
      "rowLimit": 10000
     },
     "inputWidgets": {},
     "nuid": "20f086ea-c96f-48d8-8a24-43b1df16cb50",
     "showTitle": false,
     "tableResultSettingsMap": {},
     "title": ""
    }
   },
   "outputs": [],
   "source": [
    "%sql\n",
    "USE CATALOG data_ml_preparation;\n",
    "CREATE SCHEMA IF NOT EXISTS bronze"
   ]
  },
  {
   "cell_type": "code",
   "execution_count": 0,
   "metadata": {
    "application/vnd.databricks.v1+cell": {
     "cellMetadata": {
      "byteLimit": 2048000,
      "implicitDf": true,
      "rowLimit": 10000
     },
     "inputWidgets": {},
     "nuid": "1a415d3c-3289-46bd-807e-83e6cc5c1fc1",
     "showTitle": false,
     "tableResultSettingsMap": {},
     "title": ""
    }
   },
   "outputs": [],
   "source": [
    "%sql\n",
    "CREATE SCHEMA IF NOT EXISTS silver"
   ]
  },
  {
   "cell_type": "code",
   "execution_count": 0,
   "metadata": {
    "application/vnd.databricks.v1+cell": {
     "cellMetadata": {
      "byteLimit": 2048000,
      "implicitDf": true,
      "rowLimit": 10000
     },
     "inputWidgets": {},
     "nuid": "2d350d51-7c18-4e32-b49e-e817ae37bba3",
     "showTitle": false,
     "tableResultSettingsMap": {},
     "title": ""
    }
   },
   "outputs": [],
   "source": [
    "%sql\n",
    "CREATE SCHEMA IF NOT EXISTS gold"
   ]
  },
  {
   "cell_type": "code",
   "execution_count": 0,
   "metadata": {
    "application/vnd.databricks.v1+cell": {
     "cellMetadata": {
      "byteLimit": 2048000,
      "rowLimit": 10000
     },
     "inputWidgets": {},
     "nuid": "dcfe82cf-e3ea-4f01-9481-22b4c49a8e2a",
     "showTitle": false,
     "tableResultSettingsMap": {},
     "title": ""
    }
   },
   "outputs": [],
   "source": [
    "# Set catalog and schema\n",
    "spark.sql(\"USE CATALOG data_ml_preparation\")\n",
    "spark.sql(\"USE SCHEMA bronze\")\n",
    "\n",
    "data = [\n",
    "    (1, \"Anna\", \"2023-01-01\"),\n",
    "    (2, \"Bartek\", \"2023-02-15\"),\n",
    "    (3, \"Celina\", \"2023-03-20\")\n",
    "]\n",
    "columns = [\"customer_id\", \"name\", \"signup_date\"]\n",
    "df = spark.createDataFrame(data, columns)\n",
    "\n",
    "# Save as managed table\n",
    "df.write.mode(\"overwrite\").saveAsTable(\"customer_raw\")"
   ]
  },
  {
   "cell_type": "code",
   "execution_count": 0,
   "metadata": {
    "application/vnd.databricks.v1+cell": {
     "cellMetadata": {
      "byteLimit": 2048000,
      "rowLimit": 10000
     },
     "inputWidgets": {},
     "nuid": "16526c5f-b26a-4726-a22d-9f38a0eeb033",
     "showTitle": false,
     "tableResultSettingsMap": {},
     "title": ""
    }
   },
   "outputs": [],
   "source": [
    "# Save as external table\n",
    "df.write.mode(\"overwrite\").format(\"delta\").save(\n",
    "    \"abfss://uc-altkom-akademia@altkommltrainingwesa.dfs.core.windows.net/altkom-training/data-ml-preparation/bronze/external_customer_raw\"\n",
    ")"
   ]
  },
  {
   "cell_type": "code",
   "execution_count": 0,
   "metadata": {
    "application/vnd.databricks.v1+cell": {
     "cellMetadata": {
      "byteLimit": 2048000,
      "implicitDf": true,
      "rowLimit": 10000
     },
     "inputWidgets": {},
     "nuid": "d5cceae2-5295-4ed0-be31-49452b09c303",
     "showTitle": false,
     "tableResultSettingsMap": {},
     "title": ""
    }
   },
   "outputs": [],
   "source": [
    "%sql\n",
    "CREATE TABLE IF NOT EXISTS data_ml_preparation.bronze.external_customer_raw\n",
    "USING DELTA\n",
    "LOCATION 'abfss://uc-altkom-akademia@altkommltrainingwesa.dfs.core.windows.net/altkom-training/data-ml-preparation/bronze/external_customer_raw'"
   ]
  },
  {
   "cell_type": "code",
   "execution_count": 0,
   "metadata": {
    "application/vnd.databricks.v1+cell": {
     "cellMetadata": {
      "byteLimit": 2048000,
      "rowLimit": 10000
     },
     "inputWidgets": {},
     "nuid": "414b9117-bdd8-41dc-b683-a00ebd6057b9",
     "showTitle": false,
     "tableResultSettingsMap": {},
     "title": ""
    }
   },
   "outputs": [],
   "source": [
    "# Clean up\n",
    "\"\"\"\n",
    "spark.sql(\"USE CATALOG data_ml_preparation\")\n",
    "spark.sql(\"DROP TABLE IF EXISTS bronze.customer_raw\")\n",
    "spark.sql(\"DROP TABLE IF EXISTS bronze.external_customer_raw\")\n",
    "\n",
    "for schema in [\"bronze\", \"silver\", \"gold\"]:\n",
    "    spark.sql(f\"DROP SCHEMA IF EXISTS {schema} CASCADE\")\n",
    "\n",
    "spark.sql(\"DROP CATALOG IF EXISTS data_ml_preparation CASCADE\")\n",
    "\"\"\"\"\"\""
   ]
  }
 ],
 "metadata": {
  "application/vnd.databricks.v1+notebook": {
   "computePreferences": null,
   "dashboards": [],
   "environmentMetadata": null,
   "inputWidgetPreferences": null,
   "language": "python",
   "notebookMetadata": {
    "mostRecentlyExecutedCommandWithImplicitDF": {
     "commandId": 5971457967973247,
     "dataframes": [
      "_sqldf"
     ]
    },
    "pythonIndentUnit": 4
   },
   "notebookName": "00_Unity_Catalog_Configuration",
   "widgets": {}
  },
  "kernelspec": {
   "display_name": "Python 3",
   "language": "python",
   "name": "python3"
  },
  "language_info": {
   "name": "python"
  }
 },
 "nbformat": 4,
 "nbformat_minor": 0
}