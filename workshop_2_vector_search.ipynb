{
 "cells": [
  {
   "cell_type": "markdown",
   "metadata": {
    "application/vnd.databricks.v1+cell": {
     "cellMetadata": {
      "byteLimit": 2048000,
      "rowLimit": 10000
     },
     "inputWidgets": {},
     "nuid": "c0ee9b05-b238-4efb-b3de-58d97b1500ea",
     "showTitle": false,
     "tableResultSettingsMap": {},
     "title": ""
    }
   },
   "source": [
    "# Databricks Data Preparation in ML - Workshop 2\n",
    "## Vector Search Fundamentals\n",
    "\n",
    "**Part of the Databricks Data Preparation in ML Training Series**\n",
    "\n",
    "---\n",
    "\n",
    "## Workshop Objectives\n",
    "\n",
    "This workshop introduces Vector Search fundamentals in Databricks, focusing on:\n",
    "- **Theory**: Understanding Vector Search and embeddings concepts\n",
    "- **Demo**: Step-by-step implementation with simple datasets\n",
    "- **Workshop**: Hands-on practice with Amazon Kindle data\n",
    "\n",
    "## Theory: Vector Search and Embeddings\n",
    "\n",
    "### What is Vector Search?\n",
    "Vector Search enables **semantic similarity-based** data retrieval, going beyond exact keyword matching.\n",
    "\n",
    "**Example:**\n",
    "- Query: \"fantasy book\"\n",
    "- Finds: \"magical adventure\", \"wizard story\", \"enchanted tale\"\n",
    "\n",
    "### Embeddings - Text as Numbers\n",
    "Embeddings represent text as numerical vectors:\n",
    "```\n",
    "\"Harry Potter\" → [0.2, -0.5, 0.8, ...]\n",
    "\"Magic story\" → [0.3, -0.4, 0.7, ...]\n",
    "```\n",
    "\n",
    "### Vector Search Process:\n",
    "1. **Data Preparation** - Text cleaning and preprocessing\n",
    "2. **Embedding Generation** - Text → numerical vectors  \n",
    "3. **Index Creation** - Optimized search infrastructure\n",
    "4. **Semantic Search** - Finding similar content\n",
    "\n",
    "### ML Applications:\n",
    "- Semantic search systems\n",
    "- Recommendation engines\n",
    "- RAG (Retrieval Augmented Generation)\n",
    "- Document similarity analysis\n",
    "\n",
    "## Duration: ~60 minutes\n",
    "## Level: Intermediate → Advanced"
   ]
  },
  {
   "cell_type": "markdown",
   "metadata": {
    "application/vnd.databricks.v1+cell": {
     "cellMetadata": {
      "byteLimit": 2048000,
      "rowLimit": 10000
     },
     "inputWidgets": {},
     "nuid": "6b9455c6-d434-44f8-9905-56cc45c58028",
     "showTitle": false,
     "tableResultSettingsMap": {},
     "title": ""
    }
   },
   "source": [
    "## 1. Environment Setup\n",
    "\n",
    "### Required Libraries:\n",
    "- `databricks-vectorsearch` - Native Vector Search\n",
    "- `sentence-transformers` - Embeddings (alternative to OpenAI)\n",
    "- Standard PySpark libraries\n",
    "\n",
    "### Workshop Structure:\n",
    "- **DEMO**: Simple data + implementation\n",
    "- **WORKSHOP**: Amazon Kindle dataset + instructions"
   ]
  },
  {
   "cell_type": "code",
   "execution_count": 0,
   "metadata": {
    "application/vnd.databricks.v1+cell": {
     "cellMetadata": {
      "byteLimit": 2048000,
      "rowLimit": 10000
     },
     "inputWidgets": {},
     "nuid": "39d327a1-d1f2-427f-b9e7-c096e7b1b1be",
     "showTitle": false,
     "tableResultSettingsMap": {},
     "title": ""
    }
   },
   "outputs": [],
   "source": [
    "%pip install databricks-vectorsearch\n",
    "dbutils.library.restartPython()"
   ]
  },
  {
   "cell_type": "code",
   "execution_count": 0,
   "metadata": {
    "application/vnd.databricks.v1+cell": {
     "cellMetadata": {
      "byteLimit": 2048000,
      "rowLimit": 10000
     },
     "inputWidgets": {},
     "nuid": "117af2cf-6487-4529-9336-7aaf51b55836",
     "showTitle": false,
     "tableResultSettingsMap": {},
     "title": ""
    }
   },
   "outputs": [],
   "source": [
    "from pyspark.sql.functions import col, concat, lit\n",
    "from pyspark.sql.types import StructType, StructField, StringType\n",
    "from databricks.vector_search.client import VectorSearchClient\n",
    "\n",
    "vs_client = VectorSearchClient()\n",
    "\n",
    "display(\"✅ Vector Search client ready\")\n",
    "display(\"\uD83C\uDFAF Environment setup completed! Ready to start Vector Search workshop \uD83D\uDE80\")"
   ]
  },
  {
   "cell_type": "markdown",
   "metadata": {
    "application/vnd.databricks.v1+cell": {
     "cellMetadata": {
      "byteLimit": 2048000,
      "rowLimit": 10000
     },
     "inputWidgets": {},
     "nuid": "7dc0c5f0-3e80-467c-b48d-cb27ddcf3f53",
     "showTitle": false,
     "tableResultSettingsMap": {},
     "title": ""
    }
   },
   "source": [
    "---\n",
    "\n",
    "# PART 1: DEMO - Vector Search Implementation\n",
    "\n",
    "## Demo Objective:\n",
    "Demonstrate the complete Vector Search process using simple generated data in the notebook."
   ]
  },
  {
   "cell_type": "markdown",
   "metadata": {
    "application/vnd.databricks.v1+cell": {
     "cellMetadata": {
      "byteLimit": 2048000,
      "rowLimit": 10000
     },
     "inputWidgets": {},
     "nuid": "8a8a05ac-c20b-4729-aa59-c61326c8f3f8",
     "showTitle": false,
     "tableResultSettingsMap": {},
     "title": ""
    }
   },
   "source": [
    "## 1.1 Generate Sample Data\n",
    "\n",
    "Create a simple book dataset for Vector Search demonstration."
   ]
  },
  {
   "cell_type": "code",
   "execution_count": 0,
   "metadata": {
    "application/vnd.databricks.v1+cell": {
     "cellMetadata": {
      "byteLimit": 2048000,
      "rowLimit": 10000
     },
     "inputWidgets": {},
     "nuid": "6bfd5b98-6ea0-4e2e-9fa7-14f3de267f00",
     "showTitle": false,
     "tableResultSettingsMap": {},
     "title": ""
    }
   },
   "outputs": [],
   "source": [
    "# Creating sample book data\n",
    "books_data = [\n",
    "    (\"1\", \"Harry Potter and the Magic Stone\", \"A young wizard discovers his magical heritage and attends Hogwarts school\", \"Fantasy\"),\n",
    "    (\"2\", \"The Hunger Games\", \"A dystopian story about survival and rebellion in a post-apocalyptic world\", \"Sci-Fi\"),\n",
    "    (\"3\", \"Pride and Prejudice\", \"A romantic novel about love, marriage and social expectations in 19th century England\", \"Romance\"),\n",
    "    (\"4\", \"Lord of the Rings\", \"An epic fantasy adventure about hobbits, wizards and the battle against evil\", \"Fantasy\"),\n",
    "    (\"5\", \"1984\", \"A dystopian novel about totalitarian government surveillance and control\", \"Sci-Fi\"),\n",
    "    (\"6\", \"Romeo and Juliet\", \"A tragic love story about two young lovers from feuding families\", \"Romance\"),\n",
    "    (\"7\", \"Game of Thrones\", \"A medieval fantasy epic with political intrigue, dragons and magic\", \"Fantasy\"),\n",
    "    (\"8\", \"The Martian\", \"A science fiction story about survival on Mars using technology and ingenuity\", \"Sci-Fi\"),\n",
    "    (\"9\", \"The Notebook\", \"A heartwarming romance about enduring love that transcends time and memory\", \"Romance\"),\n",
    "    (\"10\", \"Chronicles of Narnia\", \"A magical adventure in a fantasy world with talking animals and mythical creatures\", \"Fantasy\")\n",
    "]\n",
    "\n",
    "schema = StructType([\n",
    "    StructField(\"id\", StringType(), True),\n",
    "    StructField(\"title\", StringType(), True),\n",
    "    StructField(\"description\", StringType(), True),\n",
    "    StructField(\"category\", StringType(), True)\n",
    "])\n",
    "\n",
    "clean_books_df = spark.createDataFrame(books_data, schema)\n",
    "display(clean_books_df)"
   ]
  },
  {
   "cell_type": "markdown",
   "metadata": {
    "application/vnd.databricks.v1+cell": {
     "cellMetadata": {
      "byteLimit": 2048000,
      "rowLimit": 10000
     },
     "inputWidgets": {},
     "nuid": "51edbe1b-c167-4b14-a4a0-275699f4ba3a",
     "showTitle": false,
     "tableResultSettingsMap": {},
     "title": ""
    }
   },
   "source": [
    "## 1.2 Generate Embeddings\n",
    "\n",
    "Two methods for creating embeddings:\n",
    "- **Method 1**: Sentence Transformers (free)\n",
    "- **Method 2**: OpenAI Ada (paid, higher quality)"
   ]
  },
  {
   "cell_type": "code",
   "execution_count": 0,
   "metadata": {
    "application/vnd.databricks.v1+cell": {
     "cellMetadata": {
      "byteLimit": 2048000,
      "rowLimit": 10000
     },
     "inputWidgets": {},
     "nuid": "c737bb08-6c28-43b7-aee8-b50528271165",
     "showTitle": false,
     "tableResultSettingsMap": {},
     "title": ""
    }
   },
   "outputs": [],
   "source": [
    "# Method 1: Sentence Transformers (free)\n",
    "from sentence_transformers import SentenceTransformer\n",
    "\n",
    "# Load the model\n",
    "model = SentenceTransformer('all-MiniLM-L6-v2')\n",
    "\n",
    "# Convert to pandas for batch processing\n",
    "texts_df = clean_books_df.toPandas()\n",
    "\n",
    "# Generate embeddings\n",
    "embeddings = model.encode(texts_df['description'].tolist())\n",
    "\n",
    "# Add embeddings to DataFrame\n",
    "texts_df['embedding'] = embeddings.tolist()\n",
    "\n",
    "# Check dimensions\n",
    "print(f\"Embedding dimensions: {embeddings.shape}\")\n",
    "print(f\"First embedding (first 5 values): {embeddings[0][:5]}\")"
   ]
  },
  {
   "cell_type": "code",
   "execution_count": 0,
   "metadata": {
    "application/vnd.databricks.v1+cell": {
     "cellMetadata": {
      "byteLimit": 2048000,
      "rowLimit": 10000
     },
     "inputWidgets": {},
     "nuid": "10297b59-b02e-4743-8354-3b174cdf7ac9",
     "showTitle": false,
     "tableResultSettingsMap": {},
     "title": ""
    }
   },
   "outputs": [],
   "source": [
    "display(texts_df)"
   ]
  },
  {
   "cell_type": "code",
   "execution_count": 0,
   "metadata": {
    "application/vnd.databricks.v1+cell": {
     "cellMetadata": {
      "byteLimit": 2048000,
      "rowLimit": 10000
     },
     "inputWidgets": {},
     "nuid": "a93d62e2-a6d2-431e-bdfa-6fbc6fec4661",
     "showTitle": false,
     "tableResultSettingsMap": {},
     "title": ""
    }
   },
   "outputs": [],
   "source": [
    "# Method 2: OpenAI Ada (optional - requires API key)\n",
    "# import openai\n",
    "# openai.api_key = \"your-api-key\"\n",
    "\n",
    "# def get_openai_embedding(text):\n",
    "#     response = openai.Embedding.create(\n",
    "#         input=text,\n",
    "#         model=\"text-embedding-ada-002\"\n",
    "#     )\n",
    "#     return response['data'][0]['embedding']\n",
    "\n",
    "# For demo we use Sentence Transformers\n",
    "print(\"✅ Embeddings generated using Sentence Transformers method\")"
   ]
  },
  {
   "cell_type": "markdown",
   "metadata": {
    "application/vnd.databricks.v1+cell": {
     "cellMetadata": {
      "byteLimit": 2048000,
      "rowLimit": 10000
     },
     "inputWidgets": {},
     "nuid": "984ba6c8-fb4d-4c67-afe1-a010d891cd17",
     "showTitle": false,
     "tableResultSettingsMap": {},
     "title": ""
    }
   },
   "source": [
    "## 1.3 Delta Table Preparation\n",
    "\n",
    "Vector Search in Databricks requires data in Delta Lake format."
   ]
  },
  {
   "cell_type": "code",
   "execution_count": 0,
   "metadata": {
    "application/vnd.databricks.v1+cell": {
     "cellMetadata": {
      "byteLimit": 2048000,
      "rowLimit": 10000
     },
     "inputWidgets": {},
     "nuid": "909e1588-aa83-4082-a9e0-a520e43741c4",
     "showTitle": false,
     "tableResultSettingsMap": {
      "0": {
       "dataGridStateBlob": "{\"version\":1,\"tableState\":{\"columnPinning\":{\"left\":[\"#row_number#\"],\"right\":[]},\"columnSizing\":{},\"columnVisibility\":{}},\"settings\":{\"columns\":{}},\"syncTimestamp\":1753563659572}",
       "filterBlob": null,
       "queryPlanFiltersBlob": null,
       "tableResultIndex": 0
      }
     },
     "title": ""
    }
   },
   "outputs": [],
   "source": [
    "# Save as Delta Table\n",
    "table_name = \"data_ml_preparation.vectors.demo_books_embeddings\"\n",
    "spark.createDataFrame(texts_df).write.mode(\"overwrite\").saveAsTable(table_name)\n",
    "\n",
    "print(f\"✅ Delta Table '{table_name}' created\")\n",
    "display(texts_df)"
   ]
  },
  {
   "cell_type": "code",
   "execution_count": 0,
   "metadata": {
    "application/vnd.databricks.v1+cell": {
     "cellMetadata": {
      "byteLimit": 2048000,
      "implicitDf": true,
      "rowLimit": 10000
     },
     "inputWidgets": {},
     "nuid": "d61f7c1d-5cfc-41f2-8977-36be9eee12c9",
     "showTitle": false,
     "tableResultSettingsMap": {},
     "title": ""
    }
   },
   "outputs": [],
   "source": [
    "%sql\n",
    "\n",
    "describe detail demo_books_embeddings"
   ]
  },
  {
   "cell_type": "code",
   "execution_count": 0,
   "metadata": {
    "application/vnd.databricks.v1+cell": {
     "cellMetadata": {
      "byteLimit": 2048000,
      "rowLimit": 10000
     },
     "inputWidgets": {},
     "nuid": "77c8f422-bfea-4d94-9122-eda4dc4ccc3e",
     "showTitle": false,
     "tableResultSettingsMap": {},
     "title": ""
    }
   },
   "outputs": [],
   "source": [
    "# Enable Change Data Feed for the source table\n",
    "spark.sql(\"\"\"\n",
    "    ALTER TABLE data_ml_preparation.vectors.demo_books_embeddings\n",
    "    SET TBLPROPERTIES (delta.enableChangeDataFeed = true)\n",
    "\"\"\")"
   ]
  },
  {
   "cell_type": "markdown",
   "metadata": {
    "application/vnd.databricks.v1+cell": {
     "cellMetadata": {
      "byteLimit": 2048000,
      "rowLimit": 10000
     },
     "inputWidgets": {},
     "nuid": "08b1817f-c4f9-4952-991d-0aa50b14dbe4",
     "showTitle": false,
     "tableResultSettingsMap": {},
     "title": ""
    }
   },
   "source": [
    "## 1.4 Creating Vector Search Index\n",
    "\n",
    "Creating an index for efficient semantic search."
   ]
  },
  {
   "cell_type": "code",
   "execution_count": 0,
   "metadata": {
    "application/vnd.databricks.v1+cell": {
     "cellMetadata": {
      "byteLimit": 2048000,
      "rowLimit": 10000
     },
     "inputWidgets": {},
     "nuid": "d0213f39-ee77-4887-834d-964d90384d45",
     "showTitle": false,
     "tableResultSettingsMap": {},
     "title": ""
    }
   },
   "outputs": [],
   "source": [
    "endpoint_name = \"demo_books_embeddings_endpoint\"\n",
    "index_name = \"data_ml_preparation.vectors.demo_books_embeddings_index\""
   ]
  },
  {
   "cell_type": "code",
   "execution_count": 0,
   "metadata": {
    "application/vnd.databricks.v1+cell": {
     "cellMetadata": {
      "byteLimit": 2048000,
      "rowLimit": 10000
     },
     "inputWidgets": {},
     "nuid": "d4b4af3c-6e8a-4169-ae25-e3f2345c1085",
     "showTitle": false,
     "tableResultSettingsMap": {},
     "title": ""
    }
   },
   "outputs": [],
   "source": [
    "from databricks.vector_search.client import VectorSearchClient\n",
    "\n",
    "# Initialize the vector search client\n",
    "vs_client = VectorSearchClient()\n",
    "\n",
    "# Step 1: Create endpoint\n",
    "vs_client.create_endpoint(name=\"demo_books_embeddings_endpoint\")"
   ]
  },
  {
   "cell_type": "code",
   "execution_count": 0,
   "metadata": {
    "application/vnd.databricks.v1+cell": {
     "cellMetadata": {
      "byteLimit": 2048000,
      "rowLimit": 10000
     },
     "inputWidgets": {},
     "nuid": "a44a4b2a-ce99-44f6-a1d0-6cec647ab979",
     "showTitle": false,
     "tableResultSettingsMap": {},
     "title": ""
    }
   },
   "outputs": [],
   "source": [
    "vs_client.create_delta_sync_index(\n",
    "    endpoint_name=\"demo_books_embeddings_endpoint\",\n",
    "    index_name=\"data_ml_preparation.vectors.demo_books_embeddings_index\",\n",
    "    source_table_name=\"data_ml_preparation.vectors.demo_books_embeddings\",  #\n",
    "    pipeline_type=\"TRIGGERED\",\n",
    "    primary_key=\"id\",  # adjust based on your schema\n",
    "    embedding_dimension=384,\n",
    "    embedding_vector_column=\"embedding\"\n",
    ")"
   ]
  },
  {
   "cell_type": "markdown",
   "metadata": {
    "application/vnd.databricks.v1+cell": {
     "cellMetadata": {
      "byteLimit": 2048000,
      "rowLimit": 10000
     },
     "inputWidgets": {},
     "nuid": "ec8a3a9f-eedd-4fc8-a88b-21b4f637b561",
     "showTitle": false,
     "tableResultSettingsMap": {},
     "title": ""
    }
   },
   "source": [
    "## 1.5 Testing Vector Search\n",
    "\n",
    "Examples of semantic search with different queries."
   ]
  },
  {
   "cell_type": "code",
   "execution_count": 0,
   "metadata": {
    "application/vnd.databricks.v1+cell": {
     "cellMetadata": {
      "byteLimit": 2048000,
      "rowLimit": 10000
     },
     "inputWidgets": {},
     "nuid": "e92e8cbe-d869-43ec-a4ba-24a61562e0da",
     "showTitle": false,
     "tableResultSettingsMap": {},
     "title": ""
    }
   },
   "outputs": [],
   "source": [
    "# Test queries for Vector Search\n",
    "\n",
    "\n",
    "test_queries = [\n",
    "    \"magical wizard adventure\",\n",
    "    \"dystopian future society\", \n",
    "    \"romantic love story\",\n",
    "    \"space exploration Mars\"\n",
    "]\n",
    "\n",
    "\n",
    "# Ensure the query is defined\n",
    "query = test_queries[0]\n",
    "\n",
    "# Encode the query\n",
    "query_embedding = model.encode([query])[0].tolist()\n",
    "\n",
    "# Correct index name\n",
    "index_name = 'data_ml_preparation.vectors.demo_books_embeddings_index'\n",
    "\n",
    "\n",
    "    # Perform similarity search\n",
    "results = vs_client.get_index(endpoint_name, index_name).similarity_search(\n",
    "        query_vector=query_embedding,\n",
    "        columns=[\"title\", \"description\", \"category\"],\n",
    "        num_results=5\n",
    "    )\n",
    "    \n",
    "print(results)\n"
   ]
  },
  {
   "cell_type": "code",
   "execution_count": 0,
   "metadata": {
    "application/vnd.databricks.v1+cell": {
     "cellMetadata": {
      "byteLimit": 2048000,
      "rowLimit": 10000
     },
     "inputWidgets": {},
     "nuid": "a195bd39-8542-454d-b863-931c386b1afe",
     "showTitle": false,
     "tableResultSettingsMap": {},
     "title": ""
    }
   },
   "outputs": [],
   "source": [
    "display(results)"
   ]
  },
  {
   "cell_type": "markdown",
   "metadata": {
    "application/vnd.databricks.v1+cell": {
     "cellMetadata": {
      "byteLimit": 2048000,
      "rowLimit": 10000
     },
     "inputWidgets": {},
     "nuid": "520c4c20-ddf8-4018-96a7-8bcc3b738410",
     "showTitle": false,
     "tableResultSettingsMap": {},
     "title": ""
    }
   },
   "source": [
    "---\n",
    "\n",
    "# PART 2: WORKSHOP - Amazon Kindle Dataset\n",
    "\n",
    "## \uD83C\uDFAF Objective:\n",
    "Hands-on implementation of Vector Search on real Amazon Kindle data.\n",
    "\n",
    "## \uD83D\uDCCB Tasks to Complete:\n",
    "1. Load Amazon Kindle data\n",
    "2. Clean and prepare data\n",
    "3. Remove duplicates and handle missing values\n",
    "4. Generate embeddings (2 methods)\n",
    "5. Create Vector Search index\n",
    "6. Test search functionality\n",
    "\n",
    "## \uD83D\uDCC2 Data Path:\n",
    "`...raw/amazon_kindel_data/kindel_data_amazon.csv`"
   ]
  },
  {
   "cell_type": "code",
   "execution_count": 0,
   "metadata": {
    "application/vnd.databricks.v1+cell": {
     "cellMetadata": {
      "byteLimit": 2048000,
      "rowLimit": 10000
     },
     "inputWidgets": {},
     "nuid": "65fc7312-d12a-4b00-ad37-0370c20a32df",
     "showTitle": false,
     "tableResultSettingsMap": {},
     "title": ""
    }
   },
   "outputs": [],
   "source": [
    "display(results)"
   ]
  },
  {
   "cell_type": "markdown",
   "metadata": {
    "application/vnd.databricks.v1+cell": {
     "cellMetadata": {
      "byteLimit": 2048000,
      "rowLimit": 10000
     },
     "inputWidgets": {},
     "nuid": "e47c00fb-8171-49c6-b360-4e1200ff4e9e",
     "showTitle": false,
     "tableResultSettingsMap": {},
     "title": ""
    }
   },
   "source": [
    "## Task 1: Loading Amazon Kindle Data\n",
    "\n",
    "**Instructions:**\n",
    "1. Load data from the given path using `spark.read.csv()`\n",
    "2. Use options: `header=true`, `inferSchema=true`, `multiline=true`\n",
    "3. Check data schema (`printSchema()`)\n",
    "4. Count number of records\n",
    "5. Display first 5 rows"
   ]
  },
  {
   "cell_type": "code",
   "execution_count": 0,
   "metadata": {
    "application/vnd.databricks.v1+cell": {
     "cellMetadata": {
      "byteLimit": 2048000,
      "rowLimit": 10000
     },
     "inputWidgets": {},
     "nuid": "4fd5d1fb-6562-4118-9c2b-a9b932262cb6",
     "showTitle": false,
     "tableResultSettingsMap": {},
     "title": ""
    }
   },
   "outputs": [],
   "source": [
    "# TODO: Task 1 - Loading data\n",
    "# data_path = \"abfss://altml@altswdsa.dfs.core.windows.net/raw/amazon_kindel_data/kindel_data_amazon.csv\"\n",
    "\n",
    "# Your code here:"
   ]
  },
  {
   "cell_type": "markdown",
   "metadata": {
    "application/vnd.databricks.v1+cell": {
     "cellMetadata": {
      "byteLimit": 2048000,
      "rowLimit": 10000
     },
     "inputWidgets": {},
     "nuid": "3e699c13-98e5-4c0d-8c2a-aabd8f338afb",
     "showTitle": false,
     "tableResultSettingsMap": {},
     "title": ""
    }
   },
   "source": [
    "## Task 2: Data Cleaning\n",
    "\n",
    "**Instructions:**\n",
    "1. Check missing values in columns: `title`, `description`, `category`\n",
    "2. Remove duplicates using `distinct()`\n",
    "3. Filter records where `description` is not null and has length > 20 characters\n",
    "4. Clean text in `description` from HTML tags using `regexp_replace`\n",
    "5. Create `text_for_embedding` column combining title and description\n",
    "6. Count final records and display examples"
   ]
  },
  {
   "cell_type": "code",
   "execution_count": 0,
   "metadata": {
    "application/vnd.databricks.v1+cell": {
     "cellMetadata": {
      "byteLimit": 2048000,
      "rowLimit": 10000
     },
     "inputWidgets": {},
     "nuid": "1a1016a1-b6b2-473a-884a-c57dfedfb969",
     "showTitle": false,
     "tableResultSettingsMap": {},
     "title": ""
    }
   },
   "outputs": [],
   "source": [
    "# TODO: Task 2 - Data cleaning\n",
    "\n",
    "# Check missing values:\n",
    "\n",
    "# Remove duplicates:\n",
    "\n",
    "# Filter and clean:\n",
    "\n",
    "# Your code here:"
   ]
  },
  {
   "cell_type": "markdown",
   "metadata": {
    "application/vnd.databricks.v1+cell": {
     "cellMetadata": {
      "byteLimit": 2048000,
      "rowLimit": 10000
     },
     "inputWidgets": {},
     "nuid": "0366f713-3b50-4a7b-b529-f518bf80d317",
     "showTitle": false,
     "tableResultSettingsMap": {},
     "title": ""
    }
   },
   "source": [
    "## Task 3: Generating embeddings\n",
    "\n",
    "**Instructions:**\n",
    "1. **Method 1**: Use Sentence Transformers\n",
    "   - Load model: `SentenceTransformer('all-MiniLM-L6-v2')`\n",
    "   - Convert data to pandas: `toPandas()`\n",
    "   - Generate embeddings: `model.encode(texts)`\n",
    "\n",
    "2. **Method 2**: (Optional) OpenAI API\n",
    "   - Use model `text-embedding-ada-002`\n",
    "   - Requires API key in secrets\n",
    "\n",
    "3. Add embeddings to DataFrame\n",
    "4. Check embedding dimensions\n",
    "5. Test similarity between sample texts"
   ]
  },
  {
   "cell_type": "code",
   "execution_count": 0,
   "metadata": {
    "application/vnd.databricks.v1+cell": {
     "cellMetadata": {
      "byteLimit": 2048000,
      "rowLimit": 10000
     },
     "inputWidgets": {},
     "nuid": "1559be39-e097-43d1-8a8a-334c915ddcbf",
     "showTitle": false,
     "tableResultSettingsMap": {},
     "title": ""
    }
   },
   "outputs": [],
   "source": [
    "# TODO: Task 3 - Embeddings\n",
    "\n",
    "# Method 1: Sentence Transformers\n",
    "\n",
    "# Method 2: OpenAI (optional)\n",
    "\n",
    "# Your code here:"
   ]
  },
  {
   "cell_type": "markdown",
   "metadata": {
    "application/vnd.databricks.v1+cell": {
     "cellMetadata": {
      "byteLimit": 2048000,
      "rowLimit": 10000
     },
     "inputWidgets": {},
     "nuid": "0aad0db0-4439-47c9-ad1e-15133e545a85",
     "showTitle": false,
     "tableResultSettingsMap": {},
     "title": ""
    }
   },
   "source": [
    "## Task 4: Vector Search Implementation\n",
    "\n",
    "**Instructions:**\n",
    "1. **Delta Table Preparation**:\n",
    "   - Convert embeddings to Spark DataFrame\n",
    "   - Save as Delta Table: `saveAsTable(\"kindle_books_embeddings\")`\n",
    "\n",
    "2. **Vector Search Creation**:\n",
    "   - Create endpoint: `vs_client.create_endpoint(\"kindle_endpoint\")`\n",
    "   - Create index: `vs_client.create_delta_sync_index()`\n",
    "   - Parameters: `embedding_dimension=384`, `embedding_vector_column=\"embedding\"`\n",
    "\n",
    "3. **Search Testing**:\n",
    "   - Test queries: \"fantasy magic\", \"romance love\", \"sci-fi space\"\n",
    "   - Use `similarity_search()` with query embeddings\n",
    "   - Display top 3 results for each query"
   ]
  },
  {
   "cell_type": "code",
   "execution_count": 0,
   "metadata": {
    "application/vnd.databricks.v1+cell": {
     "cellMetadata": {
      "byteLimit": 2048000,
      "rowLimit": 10000
     },
     "inputWidgets": {},
     "nuid": "c7aeb850-d85f-4b63-81df-7d2c43d91e88",
     "showTitle": false,
     "tableResultSettingsMap": {},
     "title": ""
    }
   },
   "outputs": [],
   "source": [
    "# TODO: Task 4 - Vector Search\n",
    "\n",
    "# Delta Table preparation:\n",
    "\n",
    "# Vector Search endpoint and index creation:\n",
    "\n",
    "# Search testing:\n",
    "\n",
    "# Your code here:"
   ]
  },
  {
   "cell_type": "markdown",
   "metadata": {
    "application/vnd.databricks.v1+cell": {
     "cellMetadata": {
      "byteLimit": 2048000,
      "rowLimit": 10000
     },
     "inputWidgets": {},
     "nuid": "6a92f19a-1429-4716-8893-d368703f6aad",
     "showTitle": false,
     "tableResultSettingsMap": {},
     "title": ""
    }
   },
   "source": [
    "---\n",
    "\n",
    "## \uD83C\uDFAF Workshop Summary\n",
    "\n",
    "### What you learned:\n",
    "1. **Vector Search Theory** - embeddings, semantic similarity\n",
    "2. **Data Preparation** - text cleaning, handling duplicates\n",
    "3. **Generating embeddings** - Sentence Transformers vs OpenAI\n",
    "4. **Databricks Vector Search** - endpoints, indexes, queries\n",
    "5. **Practical applications** - semantic search, recommendations\n",
    "\n",
    "### Best practices for ML Associate:\n",
    "- **Data Quality**: Clean text = better embeddings\n",
    "- **Model Choice**: Balance between cost and quality\n",
    "- **Performance**: Batch processing for large datasets\n",
    "- **Monitoring**: Track embedding quality and search relevance\n",
    "- **Security**: API keys in Databricks secrets\n",
    "\n",
    "### Next steps:\n",
    "- **RAG Implementation**: Integration with LLM\n",
    "- **Hybrid Search**: Vector + keyword search\n",
    "- **Production Deployment**: Monitoring and scaling\n",
    "- **Advanced Features**: Metadata filtering, re-ranking"
   ]
  }
 ],
 "metadata": {
  "application/vnd.databricks.v1+notebook": {
   "computePreferences": null,
   "dashboards": [],
   "environmentMetadata": null,
   "inputWidgetPreferences": null,
   "language": "python",
   "notebookMetadata": {
    "mostRecentlyExecutedCommandWithImplicitDF": {
     "commandId": 8698289734081019,
     "dataframes": [
      "_sqldf"
     ]
    },
    "pythonIndentUnit": 4
   },
   "notebookName": "workshop_2_vector_search",
   "widgets": {}
  },
  "language_info": {
   "name": "python"
  }
 },
 "nbformat": 4,
 "nbformat_minor": 0
}